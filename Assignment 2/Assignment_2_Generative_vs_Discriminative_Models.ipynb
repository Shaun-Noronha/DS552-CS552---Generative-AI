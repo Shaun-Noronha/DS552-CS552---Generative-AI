{
  "cells": [
    {
      "cell_type": "markdown",
      "source": [
        "## **Assignment 2 - Generative vs. Discriminative Models**"
      ],
      "metadata": {
        "id": "fyy-IWerjE26"
      },
      "id": "fyy-IWerjE26"
    },
    {
      "cell_type": "code",
      "execution_count": null,
      "id": "0bee6460",
      "metadata": {
        "id": "0bee6460",
        "outputId": "5ce18e5e-3c90-4b1e-de8f-647ceaaf4567"
      },
      "outputs": [
        {
          "name": "stdout",
          "output_type": "stream",
          "text": [
            "Requirement already satisfied: seaborn in c:\\users\\shaun\\anaconda3\\lib\\site-packages (0.12.2)\n",
            "Requirement already satisfied: scikit-learn in c:\\users\\shaun\\anaconda3\\lib\\site-packages (1.4.2)\n",
            "Requirement already satisfied: matplotlib in c:\\users\\shaun\\anaconda3\\lib\\site-packages (3.7.2)\n",
            "Requirement already satisfied: pandas in c:\\users\\shaun\\anaconda3\\lib\\site-packages (2.0.3)\n",
            "Requirement already satisfied: numpy!=1.24.0,>=1.17 in c:\\users\\shaun\\anaconda3\\lib\\site-packages (from seaborn) (1.24.3)\n",
            "Requirement already satisfied: scipy>=1.6.0 in c:\\users\\shaun\\anaconda3\\lib\\site-packages (from scikit-learn) (1.11.1)\n",
            "Requirement already satisfied: joblib>=1.2.0 in c:\\users\\shaun\\anaconda3\\lib\\site-packages (from scikit-learn) (1.2.0)\n",
            "Requirement already satisfied: threadpoolctl>=2.0.0 in c:\\users\\shaun\\anaconda3\\lib\\site-packages (from scikit-learn) (2.2.0)\n",
            "Requirement already satisfied: contourpy>=1.0.1 in c:\\users\\shaun\\anaconda3\\lib\\site-packages (from matplotlib) (1.0.5)\n",
            "Requirement already satisfied: cycler>=0.10 in c:\\users\\shaun\\anaconda3\\lib\\site-packages (from matplotlib) (0.11.0)\n",
            "Requirement already satisfied: fonttools>=4.22.0 in c:\\users\\shaun\\anaconda3\\lib\\site-packages (from matplotlib) (4.25.0)\n",
            "Requirement already satisfied: kiwisolver>=1.0.1 in c:\\users\\shaun\\anaconda3\\lib\\site-packages (from matplotlib) (1.4.4)\n",
            "Requirement already satisfied: packaging>=20.0 in c:\\users\\shaun\\anaconda3\\lib\\site-packages (from matplotlib) (24.1)\n",
            "Requirement already satisfied: pillow>=6.2.0 in c:\\users\\shaun\\anaconda3\\lib\\site-packages (from matplotlib) (10.0.1)\n",
            "Requirement already satisfied: pyparsing<3.1,>=2.3.1 in c:\\users\\shaun\\anaconda3\\lib\\site-packages (from matplotlib) (3.0.9)\n",
            "Requirement already satisfied: python-dateutil>=2.7 in c:\\users\\shaun\\anaconda3\\lib\\site-packages (from matplotlib) (2.8.2)\n",
            "Requirement already satisfied: pytz>=2020.1 in c:\\users\\shaun\\anaconda3\\lib\\site-packages (from pandas) (2023.3.post1)\n",
            "Requirement already satisfied: tzdata>=2022.1 in c:\\users\\shaun\\anaconda3\\lib\\site-packages (from pandas) (2023.3)\n",
            "Requirement already satisfied: six>=1.5 in c:\\users\\shaun\\anaconda3\\lib\\site-packages (from python-dateutil>=2.7->matplotlib) (1.16.0)\n",
            "Note: you may need to restart the kernel to use updated packages.\n"
          ]
        }
      ],
      "source": [
        "pip install seaborn scikit-learn matplotlib pandas"
      ]
    },
    {
      "cell_type": "markdown",
      "source": [
        "# Importing Libraries\n",
        "This cell imports the required libraries for data handling, visualization, and machine learning:\n",
        "- **pandas**: For data manipulation and analysis.\n",
        "- **seaborn**: For dataset loading and visualization.\n",
        "- **sklearn**: For splitting the dataset, building models, and evaluating performance metrics.\n",
        "- **numpy**: For numerical computations.\n",
        "- **matplotlib.pyplot**: For plotting charts and graphs.\n",
        "- **warnings**: To suppress unnecessary warnings during execution.\n",
        "\n",
        "These libraries collectively provide the tools needed for data analysis, model training, and evaluation.\n"
      ],
      "metadata": {
        "id": "EkoNRHrujj57"
      },
      "id": "EkoNRHrujj57"
    },
    {
      "cell_type": "code",
      "execution_count": null,
      "id": "54775842",
      "metadata": {
        "id": "54775842"
      },
      "outputs": [],
      "source": [
        "import pandas as pd\n",
        "import seaborn as sns\n",
        "from sklearn.model_selection import train_test_split\n",
        "from sklearn.naive_bayes import GaussianNB\n",
        "from sklearn.linear_model import LogisticRegression\n",
        "from sklearn.metrics import accuracy_score, roc_auc_score, roc_curve, auc, classification_report\n",
        "import matplotlib.pyplot as plt\n",
        "import numpy as np\n",
        "import warnings\n",
        "\n",
        "warnings.filterwarnings('ignore')"
      ]
    },
    {
      "cell_type": "markdown",
      "source": [
        "# Loading the Dataset\n",
        "The penguins dataset is loaded using `seaborn`'s `load_dataset` function.\n",
        "\n",
        "The dataset size (total number of elements) and shape (number of rows and columns) are printed to get an overview of the data.\n",
        "\n",
        "- The dataset consists of **344 rows** and **7 columns**, making it small and manageable for analysis.\n",
        "- The size of **2408 elements** indicates the total number of data points available.\n"
      ],
      "metadata": {
        "id": "SBWvEw_Vkv8H"
      },
      "id": "SBWvEw_Vkv8H"
    },
    {
      "cell_type": "code",
      "execution_count": null,
      "id": "3e6ac583",
      "metadata": {
        "id": "3e6ac583",
        "outputId": "f25b6109-8eb0-4aa3-e901-0676f356fad6"
      },
      "outputs": [
        {
          "name": "stdout",
          "output_type": "stream",
          "text": [
            "Dataset Size: 2408\n",
            "Dataset Shape: (344, 7)\n"
          ]
        }
      ],
      "source": [
        "# Load the penguins dataset\n",
        "all_data = sns.load_dataset('penguins')\n",
        "\n",
        "# Print dataset size and shape\n",
        "print(\"Dataset Size:\", all_data.size)\n",
        "print(\"Dataset Shape:\", all_data.shape)"
      ]
    },
    {
      "cell_type": "markdown",
      "source": [
        "# Checking Unique Species\n",
        "The unique species in the `species` column are identified using the `unique()` function.\n",
        "\n",
        "- The dataset contains three distinct species: **Adelie**, **Chinstrap**, and **Gentoo**.\n",
        "- This confirms the dataset is initially designed for a multi-class classification problem.\n",
        "- These species represent the target variable for subsequent modeling tasks.\n"
      ],
      "metadata": {
        "id": "ZxjlIR8xkzSv"
      },
      "id": "ZxjlIR8xkzSv"
    },
    {
      "cell_type": "code",
      "execution_count": null,
      "id": "b32f1efd",
      "metadata": {
        "id": "b32f1efd",
        "outputId": "f31174db-cfa1-439c-f606-40fb041833f6"
      },
      "outputs": [
        {
          "name": "stdout",
          "output_type": "stream",
          "text": [
            "Unique Species: ['Adelie' 'Chinstrap' 'Gentoo']\n"
          ]
        }
      ],
      "source": [
        "species_distinct = all_data['species'].unique()\n",
        "print(\"Unique Species:\", species_distinct)"
      ]
    },
    {
      "cell_type": "markdown",
      "source": [
        "# Filtering Specific Data\n",
        "The dataset is filtered to include only the **Adelie** and **Gentoo** species.\n",
        "\n",
        "- This reduces the classification problem to a binary task, simplifying analysis and modeling.\n",
        "- Rows corresponding to the **Chinstrap** species are removed from the dataset.\n",
        "\n",
        "After filtering, the dataset now consists of **276 rows** and **7 columns**.\n"
      ],
      "metadata": {
        "id": "raNWGvp3k_ox"
      },
      "id": "raNWGvp3k_ox"
    },
    {
      "cell_type": "code",
      "execution_count": null,
      "id": "69adace2",
      "metadata": {
        "id": "69adace2",
        "outputId": "2fe3e16d-9579-45e1-9161-a0658111800a"
      },
      "outputs": [
        {
          "name": "stdout",
          "output_type": "stream",
          "text": [
            "Filtered Dataset Size: 1932\n",
            "Filtered Dataset Shape: (276, 7)\n"
          ]
        }
      ],
      "source": [
        "req_data = all_data[all_data['species'].isin(['Adelie', 'Gentoo'])]\n",
        "\n",
        "# Print filtered data size and shape\n",
        "print(\"Filtered Dataset Size:\", req_data.size)\n",
        "print(\"Filtered Dataset Shape:\", req_data.shape)"
      ]
    },
    {
      "cell_type": "markdown",
      "source": [
        "# Removing Missing Values\n",
        "Rows with missing values are removed from the dataset using the `dropna()` method.\n",
        "\n",
        "- This ensures data integrity and prevents potential issues during model training and evaluation.\n",
        "- Only rows with complete data across all columns are retained for analysis.\n",
        "\n",
        "The dataset now contains only complete observations, ready for further preprocessing.\n"
      ],
      "metadata": {
        "id": "WwSMRWL-lBbV"
      },
      "id": "WwSMRWL-lBbV"
    },
    {
      "cell_type": "code",
      "execution_count": null,
      "id": "5b66f62d",
      "metadata": {
        "id": "5b66f62d",
        "outputId": "9d51e7d4-7013-46e2-fc5d-71bf0a472d53"
      },
      "outputs": [
        {
          "name": "stdout",
          "output_type": "stream",
          "text": [
            "Dataset after dropping missing values: (265, 7)\n"
          ]
        }
      ],
      "source": [
        "req_data = req_data.dropna()\n",
        "print(\"Dataset after dropping missing values:\", req_data.shape)"
      ]
    },
    {
      "cell_type": "markdown",
      "source": [
        "# Encoding Categorical Variables\n",
        "Categorical columns (`sex` and `island`) are converted into numerical format using one-hot encoding.\n",
        "\n",
        "- This process creates new binary columns for each category in the `sex` and `island` columns.\n",
        "- The `drop_first=True` parameter is used to avoid multicollinearity by excluding one category per feature.\n",
        "\n",
        "The dataset now includes additional columns for categorical variables, enabling compatibility with machine learning models.\n"
      ],
      "metadata": {
        "id": "709youVilGAB"
      },
      "id": "709youVilGAB"
    },
    {
      "cell_type": "code",
      "execution_count": null,
      "id": "d58abab5",
      "metadata": {
        "id": "d58abab5",
        "outputId": "d6e7f015-66c7-4528-aa1f-c8605224d92d"
      },
      "outputs": [
        {
          "name": "stdout",
          "output_type": "stream",
          "text": [
            "Dataset Columns After Encoding: Index(['species', 'bill_length_mm', 'bill_depth_mm', 'flipper_length_mm',\n",
            "       'body_mass_g', 'sex_Male', 'island_Dream', 'island_Torgersen'],\n",
            "      dtype='object')\n"
          ]
        }
      ],
      "source": [
        "req_data = pd.get_dummies(req_data, columns=['sex', 'island'], drop_first=True)\n",
        "\n",
        "# Print updated column names\n",
        "print(\"Dataset Columns After Encoding:\", req_data.columns)"
      ]
    },
    {
      "cell_type": "markdown",
      "source": [
        "# Splitting Data into Features and Labels\n",
        "Features (`X`) and labels (`y`) are separated:\n",
        "\n",
        "- Features: Includes columns such as `island_Dream`, `island_Torgersen`, `bill_length_mm`, `bill_depth_mm`, `flipper_length_mm`, `body_mass_g`, and `sex_Male`.\n",
        "- Labels: The `species` column is mapped to binary values, where **Adelie = 0** and **Gentoo = 1**.\n",
        "\n",
        "This step ensures that the predictors (`X`) and target variable (`y`) are ready for model training.\n"
      ],
      "metadata": {
        "id": "t5nY2ytXlJpk"
      },
      "id": "t5nY2ytXlJpk"
    },
    {
      "cell_type": "code",
      "execution_count": null,
      "id": "a386da75",
      "metadata": {
        "id": "a386da75",
        "outputId": "e672f2e6-bb0e-4a1c-d99a-ac4d012de67a"
      },
      "outputs": [
        {
          "name": "stdout",
          "output_type": "stream",
          "text": [
            "Features Shape: (265, 7)\n",
            "Labels Shape: (265,)\n"
          ]
        }
      ],
      "source": [
        "X = req_data[['island_Dream', 'island_Torgersen', 'bill_length_mm',\n",
        "              'bill_depth_mm', 'flipper_length_mm', 'body_mass_g', 'sex_Male']]\n",
        "y = req_data['species'].map({'Adelie': 0, 'Gentoo': 1})\n",
        "\n",
        "# Ensure no missing values in X and adjust y accordingly\n",
        "X.dropna(inplace=True)\n",
        "y = y[X.index]\n",
        "\n",
        "# Print feature and label shapes\n",
        "print(\"Features Shape:\", X.shape)\n",
        "print(\"Labels Shape:\", y.shape)"
      ]
    },
    {
      "cell_type": "markdown",
      "source": [
        "# Splitting Data into Training and Testing Sets\n",
        "The dataset is divided into training and testing sets using an 80-20 split with `train_test_split`.\n",
        "\n",
        "- **Training set**: Contains 80% of the data for model training.\n",
        "- **Testing set**: Contains 20% of the data for evaluating model performance.\n",
        "- `random_state=42` ensures reproducibility of the split.\n",
        "\n",
        "This step ensures that the model is trained on one part of the data and tested on unseen data for fair evaluation.\n"
      ],
      "metadata": {
        "id": "SHE4gkCVlMir"
      },
      "id": "SHE4gkCVlMir"
    },
    {
      "cell_type": "code",
      "execution_count": null,
      "id": "3513fa15",
      "metadata": {
        "id": "3513fa15",
        "outputId": "bd0f56be-489a-40f5-e733-93bb3161ea76"
      },
      "outputs": [
        {
          "name": "stdout",
          "output_type": "stream",
          "text": [
            "Training Set Features Shape: (212, 7)\n",
            "Test Set Features Shape: (53, 7)\n",
            "Training Set Labels Shape: (212,)\n",
            "Test Set Labels Shape: (53,)\n"
          ]
        }
      ],
      "source": [
        "X_train, X_test, y_train, y_test = train_test_split(X, y, test_size=0.2, random_state=42)\n",
        "\n",
        "# Print shapes of the training and testing sets\n",
        "print(\"Training Set Features Shape:\", X_train.shape)\n",
        "print(\"Test Set Features Shape:\", X_test.shape)\n",
        "print(\"Training Set Labels Shape:\", y_train.shape)\n",
        "print(\"Test Set Labels Shape:\", y_test.shape)"
      ]
    },
    {
      "cell_type": "markdown",
      "source": [
        "# Training Naive Bayes Model\n",
        "The Naive Bayes model is trained using the training dataset (`X_train` and `y_train`).\n",
        "\n",
        "- Predictions are made on the test dataset (`X_test`) using the `predict` method.\n",
        "- The model's accuracy is calculated using `accuracy_score`, comparing the predicted labels (`y_pred_nb`) with the true labels (`y_test`).\n",
        "\n",
        "The Naive Bayes model achieves an accuracy of **1.000**, indicating perfect classification on the test dataset.\n"
      ],
      "metadata": {
        "id": "ewvaUd5_lYmb"
      },
      "id": "ewvaUd5_lYmb"
    },
    {
      "cell_type": "code",
      "execution_count": null,
      "id": "dc2c9b6c",
      "metadata": {
        "id": "dc2c9b6c",
        "outputId": "e8beb34a-4fa5-4993-bf43-83d541680f9e"
      },
      "outputs": [
        {
          "name": "stdout",
          "output_type": "stream",
          "text": [
            "Naive Bayes Accuracy: 1.0000\n"
          ]
        }
      ],
      "source": [
        "nb = GaussianNB()\n",
        "nb.fit(X_train, y_train)\n",
        "\n",
        "# Make predictions on the test set\n",
        "y_pred_nb = nb.predict(X_test)\n",
        "\n",
        "# Calculate accuracy for the Naive Bayes model\n",
        "acc_nb = accuracy_score(y_test, y_pred_nb)\n",
        "print(f\"Naive Bayes Accuracy: {acc_nb:.4f}\")"
      ]
    },
    {
      "cell_type": "markdown",
      "source": [
        "# Training Logistic Regression Model\n",
        "The Logistic Regression model is trained with a maximum of 1000 iterations using the training dataset (`X_train` and `y_train`).\n",
        "\n",
        "- Predictions are made on the test dataset (`X_test`) using the `predict` method.\n",
        "- The model's accuracy is calculated using `accuracy_score`, comparing the predicted labels (`y_pred_lr`) with the true labels (`y_test`).\n",
        "\n",
        "The Logistic Regression model also achieves an accuracy of **1.000**, indicating perfect classification on the test dataset.\n"
      ],
      "metadata": {
        "id": "qduuxDEolwk-"
      },
      "id": "qduuxDEolwk-"
    },
    {
      "cell_type": "code",
      "execution_count": null,
      "id": "567cc70a",
      "metadata": {
        "id": "567cc70a",
        "outputId": "ec865d46-c781-4de6-829f-586bc70532f2"
      },
      "outputs": [
        {
          "name": "stdout",
          "output_type": "stream",
          "text": [
            "Logistic Regression Accuracy: 1.0000\n"
          ]
        }
      ],
      "source": [
        "lr = LogisticRegression(max_iter=1000)\n",
        "lr.fit(X_train, y_train)\n",
        "\n",
        "# Make predictions on the test set\n",
        "y_pred_lr = lr.predict(X_test)\n",
        "\n",
        "# Calculate accuracy for the Logistic Regression model\n",
        "acc_lr = accuracy_score(y_test, y_pred_lr)\n",
        "print(f\"Logistic Regression Accuracy: {acc_lr:.4f}\")"
      ]
    },
    {
      "cell_type": "markdown",
      "source": [
        "# Accuracy Comparison\n",
        "The accuracies of the Naive Bayes and Logistic Regression models are compared:\n",
        "\n",
        "- **Naive Bayes Accuracy:** 1.000\n",
        "- **Logistic Regression Accuracy:** 1.000\n",
        "\n",
        "Both models show identical performance with perfect accuracy on the test dataset.\n"
      ],
      "metadata": {
        "id": "U2YUpB4Tl1nu"
      },
      "id": "U2YUpB4Tl1nu"
    },
    {
      "cell_type": "code",
      "execution_count": null,
      "id": "0de12d92",
      "metadata": {
        "id": "0de12d92",
        "outputId": "006baa9e-f04d-4db6-e837-cf06e161269e"
      },
      "outputs": [
        {
          "name": "stdout",
          "output_type": "stream",
          "text": [
            "Accuracy Comparison:\n",
            "Naive Bayes Accuracy: 1.0000\n",
            "Logistic Regression Accuracy: 1.0000\n"
          ]
        }
      ],
      "source": [
        "print(\"Accuracy Comparison:\")\n",
        "print(f\"Naive Bayes Accuracy: {acc_nb:.4f}\")\n",
        "print(f\"Logistic Regression Accuracy: {acc_lr:.4f}\")"
      ]
    },
    {
      "cell_type": "markdown",
      "source": [
        "# Confusion Matrix and Classification Report: Naive Bayes\n",
        "The confusion matrix and classification report are generated for the Naive Bayes model:\n",
        "\n",
        "- **Confusion Matrix**:\n",
        "  - [[33, 0], [0, 20]] indicates that all samples are correctly classified.\n",
        "  - There are no false positives or false negatives.\n",
        "\n",
        "- **Classification Report**:\n",
        "  - Precision, recall, and F1-score for both classes are 1.00.\n",
        "  - Overall accuracy is 1.00, confirming perfect classification for both classes (Class 0 and Class 1).\n"
      ],
      "metadata": {
        "id": "Tlvg6c0hmE_v"
      },
      "id": "Tlvg6c0hmE_v"
    },
    {
      "cell_type": "code",
      "execution_count": null,
      "id": "b651089f",
      "metadata": {
        "id": "b651089f",
        "outputId": "3979deae-c916-4382-db94-0e10a6c2ba37"
      },
      "outputs": [
        {
          "name": "stdout",
          "output_type": "stream",
          "text": [
            "\n",
            "Confusion Matrix (Naive Bayes):\n",
            "[[33  0]\n",
            " [ 0 20]]\n",
            "\n",
            "Classification Report (Naive Bayes):\n",
            "              precision    recall  f1-score   support\n",
            "\n",
            "     Class 0       1.00      1.00      1.00        33\n",
            "     Class 1       1.00      1.00      1.00        20\n",
            "\n",
            "    accuracy                           1.00        53\n",
            "   macro avg       1.00      1.00      1.00        53\n",
            "weighted avg       1.00      1.00      1.00        53\n",
            "\n"
          ]
        }
      ],
      "source": [
        "# Confusion Matrices\n",
        "cf_nb = confusion_matrix(y_test, y_pred_nb)\n",
        "cf_lr = confusion_matrix(y_test, y_pred_lr)\n",
        "\n",
        "print(\"\\nConfusion Matrix (Naive Bayes):\")\n",
        "print(cf_nb)\n",
        "print(\"\\nClassification Report (Naive Bayes):\")\n",
        "print(classification_report(y_test, y_pred_nb, target_names=[\"Class 0\", \"Class 1\"]))"
      ]
    },
    {
      "cell_type": "markdown",
      "source": [
        "# Confusion Matrix and Classification Report: Logistic Regression\n",
        "The confusion matrix and classification report are generated for the Logistic Regression model:\n",
        "\n",
        "- **Confusion Matrix**:\n",
        "  - [[33, 0], [0, 20]] shows that all samples are correctly classified.\n",
        "  - No misclassifications are observed.\n",
        "\n",
        "- **Classification Report**:\n",
        "  - Precision, recall, and F1-score for both classes are 1.00.\n",
        "  - Overall accuracy is 1.00, indicating perfect performance for the Logistic Regression model.\n"
      ],
      "metadata": {
        "id": "0LKzu_NUmGE0"
      },
      "id": "0LKzu_NUmGE0"
    },
    {
      "cell_type": "code",
      "execution_count": null,
      "id": "f5411ac7",
      "metadata": {
        "id": "f5411ac7",
        "outputId": "fd03d03c-df1b-4239-e189-e0f1480959a1"
      },
      "outputs": [
        {
          "name": "stdout",
          "output_type": "stream",
          "text": [
            "\n",
            "Confusion Matrix (Logistic Regression):\n",
            "[[33  0]\n",
            " [ 0 20]]\n",
            "\n",
            "Classification Report (Logistic Regression):\n",
            "              precision    recall  f1-score   support\n",
            "\n",
            "     Class 0       1.00      1.00      1.00        33\n",
            "     Class 1       1.00      1.00      1.00        20\n",
            "\n",
            "    accuracy                           1.00        53\n",
            "   macro avg       1.00      1.00      1.00        53\n",
            "weighted avg       1.00      1.00      1.00        53\n",
            "\n"
          ]
        }
      ],
      "source": [
        "print(\"\\nConfusion Matrix (Logistic Regression):\")\n",
        "print(cf_lr)\n",
        "print(\"\\nClassification Report (Logistic Regression):\")\n",
        "print(classification_report(y_test, y_pred_lr, target_names=[\"Class 0\", \"Class 1\"]))"
      ]
    },
    {
      "cell_type": "markdown",
      "source": [
        "# AUC Calculation for Both Models\n",
        "The Area Under the Curve (AUC) is calculated for both models using probabilities on the test dataset:\n",
        "\n",
        "- **Naive Bayes**:\n",
        "  - AUC = 1.00, confirming the model's ability to perfectly distinguish between the two classes.\n",
        "  \n",
        "- **Logistic Regression**:\n",
        "  - AUC = 1.00, also indicating perfect discrimination between classes.\n",
        "\n",
        "Both models achieve an AUC of 1.00, signifying identical performance in this metric.\n"
      ],
      "metadata": {
        "id": "IrnX5mN8mLAe"
      },
      "id": "IrnX5mN8mLAe"
    },
    {
      "cell_type": "code",
      "execution_count": null,
      "id": "6120dca7",
      "metadata": {
        "id": "6120dca7",
        "outputId": "8387e149-e1c6-4ac6-d1d6-8325b5b3a3fc"
      },
      "outputs": [
        {
          "name": "stdout",
          "output_type": "stream",
          "text": [
            "AUC:\n",
            "Naive Bayes: 1.0\n",
            "Logistic Regression: 1.0\n"
          ]
        }
      ],
      "source": [
        "# Calculate AUC for both models\n",
        "nb_test_proba = nb_model.predict_proba(X_test)[:, 1]\n",
        "lr_test_proba = lr_model.predict_proba(X_test)[:, 1]\n",
        "nb_auc = roc_auc_score(y_test, nb_test_proba)\n",
        "lr_auc = roc_auc_score(y_test, lr_test_proba)\n",
        "\n",
        "print(\"AUC:\")\n",
        "print(f\"Naive Bayes: {nb_auc}\")\n",
        "print(f\"Logistic Regression: {lr_auc}\")b"
      ]
    },
    {
      "cell_type": "code",
      "execution_count": null,
      "id": "175f62b7",
      "metadata": {
        "scrolled": false,
        "id": "175f62b7"
      },
      "outputs": [],
      "source": [
        "nb_test_probs = nb.predict_proba(X_test)[:, 1]\n",
        "lr_test_probs = lr.predict_proba(X_test)[:, 1]\n",
        "nb_train_probs = nb.predict_proba(X_train)[:, 1]\n",
        "lr_train_probs = lr.predict_proba(X_train)[:, 1]\n",
        "\n",
        "# Calculate AUC scores\n",
        "nb_train_auc = roc_auc_score(y_train, nb_train_probs)\n",
        "nb_test_auc = roc_auc_score(y_test, nb_test_probs)\n",
        "lr_train_auc = roc_auc_score(y_train, lr_train_probs)\n",
        "lr_test_auc = roc_auc_score(y_test, lr_test_probs)"
      ]
    },
    {
      "cell_type": "markdown",
      "source": [
        "# AUC for Training and Test Sets\n",
        "AUC scores are calculated separately for the training and test sets:\n",
        "\n",
        "- **Naive Bayes**:\n",
        "  - Train AUC = 1.00\n",
        "  - Test AUC = 1.00\n",
        "  \n",
        "- **Logistic Regression**:\n",
        "  - Train AUC = 1.00\n",
        "  - Test AUC = 1.00\n",
        "\n",
        "Both models demonstrate perfect discrimination in both training and test sets, with no signs of overfitting.\n"
      ],
      "metadata": {
        "id": "h6HPcNObmU48"
      },
      "id": "h6HPcNObmU48"
    },
    {
      "cell_type": "code",
      "execution_count": null,
      "id": "86b35f95",
      "metadata": {
        "id": "86b35f95",
        "outputId": "d76b934c-407f-4704-b25e-5e2245b004a1"
      },
      "outputs": [
        {
          "name": "stdout",
          "output_type": "stream",
          "text": [
            "AUC Scores:\n",
            "Naive Bayes - Train: 1.00, Test: 1.00\n",
            "Logistic Regression - Train: 1.00, Test: 1.00\n"
          ]
        }
      ],
      "source": [
        "# Print AUC results\n",
        "print(\"AUC Scores:\")\n",
        "print(f\"Naive Bayes - Train: {nb_train_auc:.2f}, Test: {nb_test_auc:.2f}\")\n",
        "print(f\"Logistic Regression - Train: {lr_train_auc:.2f}, Test: {lr_test_auc:.2f}\")"
      ]
    },
    {
      "cell_type": "markdown",
      "source": [
        "# ROC Curves for Naive Bayes and Logistic Regression\n",
        "Side-by-side ROC curves are plotted for Naive Bayes and Logistic Regression models:\n",
        "\n",
        "- **Naive Bayes ROC Curve**:\n",
        "  - Displays a curve with an Area Under the Curve (AUC) of **1.00**, indicating perfect classification performance.\n",
        "  - The curve is far from the diagonal line, confirming its ability to distinguish between classes.\n",
        "\n",
        "- **Logistic Regression ROC Curve**:\n",
        "  - Shows a similar curve with an AUC of **1.00**, also confirming perfect classification performance.\n",
        "  - Both models have identical performance, as indicated by their curves.\n"
      ],
      "metadata": {
        "id": "v73gcMmbmzse"
      },
      "id": "v73gcMmbmzse"
    },
    {
      "cell_type": "code",
      "execution_count": null,
      "id": "b6fed1a2",
      "metadata": {
        "id": "b6fed1a2",
        "outputId": "30e0f858-73a3-4ac5-972e-707068eb9d34"
      },
      "outputs": [
        {
          "data": {
            "image/png": "[encoded data removed]",
            "text/plain": [
              "<Figure size 1400x600 with 2 Axes>"
            ]
          },
          "metadata": {},
          "output_type": "display_data"
        }
      ],
      "source": [
        "nb_fpr, nb_tpr, _ = roc_curve(y_test, nb_test_probs)\n",
        "lr_fpr, lr_tpr, _ = roc_curve(y_test, lr_test_probs)\n",
        "fig, ax = plt.subplots(1, 2, figsize=(14, 6))\n",
        "\n",
        "# Naive Bayes ROC Curve\n",
        "ax[0].plot(nb_fpr, nb_tpr, label=f\"Naive Bayes (AUC = {nb_test_auc:.2f})\", color='blue')\n",
        "ax[0].plot([0, 1], [0, 1], 'k--', label=\"Random Guess\")\n",
        "ax[0].set_title(\"Naive Bayes ROC Curve\")\n",
        "ax[0].set_xlabel(\"False Positive Rate\")\n",
        "ax[0].set_ylabel(\"True Positive Rate\")\n",
        "ax[0].legend()\n",
        "ax[0].grid()\n",
        "\n",
        "# Logistic Regression ROC Curve\n",
        "ax[1].plot(lr_fpr, lr_tpr, label=f\"Logistic Regression (AUC = {lr_test_auc:.2f})\", color='orange')\n",
        "ax[1].plot([0, 1], [0, 1], 'k--', label=\"Random Guess\")\n",
        "ax[1].set_title(\"Logistic Regression ROC Curve\")\n",
        "ax[1].set_xlabel(\"False Positive Rate\")\n",
        "ax[1].set_ylabel(\"True Positive Rate\")\n",
        "ax[1].legend()\n",
        "ax[1].grid()\n",
        "\n",
        "plt.tight_layout()\n",
        "plt.show()"
      ]
    },
    {
      "cell_type": "markdown",
      "source": [
        "# Computing Lift and Gain\n",
        "Lift and Gain values are computed for both Naive Bayes and Logistic Regression models using decile analysis:\n",
        "\n",
        "- **Lift**: Indicates how much better the model performs compared to random guessing. Higher lift values in early deciles suggest strong model performance.\n",
        "- **Gain**: Represents the cumulative percentage of true positives captured by each decile.\n",
        "\n",
        "These metrics provide deeper insights into the ranking and prioritization capabilities of each model.\n"
      ],
      "metadata": {
        "id": "RxqQiL6Fm7FM"
      },
      "id": "RxqQiL6Fm7FM"
    },
    {
      "cell_type": "code",
      "execution_count": null,
      "id": "1ffc640f",
      "metadata": {
        "id": "1ffc640f"
      },
      "outputs": [],
      "source": [
        "def compute_lift_gain(y_true, y_prob, num_deciles=10):\n",
        "    df = pd.DataFrame({'Actual': y_true, 'Probability': y_prob})\n",
        "    df = df.sort_values('Probability', ascending=False)\n",
        "    df['Decile'] = pd.qcut(df['Probability'], num_deciles, labels=range(num_deciles, 0, -1), duplicates='drop')\n",
        "    gain, lift, positives, count, cumulative_positives, cumulative_percentage = [], [], [], [], [], []\n",
        "    grouped = df.groupby('Decile')\n",
        "    total_positives = df['Actual'].sum()\n",
        "    for i in range(1, df['Decile'].nunique() + 1):\n",
        "        grouped_df = grouped.get_group(i)\n",
        "        positives_in_decile = grouped_df['Actual'].sum()\n",
        "        positives.append(positives_in_decile)\n",
        "        count.append(len(grouped_df))\n",
        "        cumulative_positives.append(sum(positives[:i]))\n",
        "        cumulative_percentage.append(cumulative_positives[i-1] / total_positives * 100)\n",
        "        gain.append(cumulative_positives[i-1] / total_positives)\n",
        "        lift.append(cumulative_percentage[i-1] / (i / num_deciles * 100))\n",
        "    return pd.DataFrame({'Decile': range(1, num_deciles + 1),\n",
        "                         'Positives': positives,\n",
        "                         'Count': count,\n",
        "                         'Cumulative Positives': cumulative_positives,\n",
        "                         'Cumulative Percentage': cumulative_percentage,\n",
        "                         'Lift': lift,\n",
        "                         'Gain': gain})\n",
        "\n",
        "# Predict probabilities for Naive Bayes and Logistic Regression\n",
        "y_prob_nb_test = nb.predict_proba(X_test)[:, 1]\n",
        "y_prob_lr_test = lr.predict_proba(X_test)[:, 1]"
      ]
    },
    {
      "cell_type": "markdown",
      "source": [
        "# Lift and Gain for Naive Bayes\n",
        "The Naive Bayes model's Lift and Gain charts are plotted:\n",
        "\n",
        "- **Lift**: Starts high in early deciles (up to 3.00) and gradually decreases to 1.00 by the last decile, indicating diminishing returns in later deciles.\n",
        "- **Gain**: Increases steadily, reaching 100% in the final decile, showing that all positives are captured cumulatively.\n",
        "\n",
        "This highlights the model's ability to prioritize true positives in the earlier deciles.\n"
      ],
      "metadata": {
        "id": "v-uE7XZ1m_nz"
      },
      "id": "v-uE7XZ1m_nz"
    },
    {
      "cell_type": "markdown",
      "source": [
        "# Lift and Gain for Logistic Regression\n",
        "The Logistic Regression model's Lift and Gain charts are plotted:\n",
        "\n",
        "- **Lift**: Similar to Naive Bayes, it starts at 3.00 in the first decile and gradually decreases to 1.00 in the last decile, demonstrating consistent performance.\n",
        "- **Gain**: Progressively increases to 100% in the final decile, confirming effective prioritization of true positives.\n",
        "\n",
        "Both models show nearly identical trends, suggesting equivalent performance in terms of lift and gain.\n"
      ],
      "metadata": {
        "id": "7B7Ap-kJnH3T"
      },
      "id": "7B7Ap-kJnH3T"
    },
    {
      "cell_type": "markdown",
      "source": [
        "# **Lift and Gain Analysis for Naive Bayes and Logistic Regression**\n",
        "\n",
        "The plotted charts showcase the Lift and Gain analysis for both models (Naive Bayes and Logistic Regression) over 10 deciles. Here's the interpretation:\n",
        "\n",
        "---\n",
        "\n",
        "## **Naive Bayes: Lift and Gain**\n",
        "- **Lift:**\n",
        "  - Starts at a high value of **3.00** in the first decile, indicating strong prioritization of true positives at the top.\n",
        "  - Gradually decreases as more data is included, reaching **1.00** in the last decile, representing random classification.\n",
        "- **Gain:**\n",
        "  - Increases steadily, with 80% of true positives captured within the first three deciles.\n",
        "  - Reaches **100%** by the 10th decile, confirming that all true positives are identified cumulatively.\n",
        "\n",
        "---\n",
        "\n",
        "## **Logistic Regression: Lift and Gain**\n",
        "- **Lift:**\n",
        "  - Begins with a similar value of **3.00** in the first decile, demonstrating comparable prioritization capabilities to Naive Bayes.\n",
        "  - Also declines as more deciles are included, reaching **1.00** by the last decile.\n",
        "- **Gain:**\n",
        "  - Progresses consistently, capturing 80% of true positives by the third decile.\n",
        "  - Like Naive Bayes, achieves **100%** by the 10th decile.\n",
        "\n",
        "---\n",
        "\n",
        "## **Comparison**\n",
        "Both models exhibit almost identical Lift and Gain patterns, reflecting similar ranking and classification effectiveness. This demonstrates that either model could be used for this dataset with comparable results.\n"
      ],
      "metadata": {
        "id": "Jl_t2Vjynck7"
      },
      "id": "Jl_t2Vjynck7"
    },
    {
      "cell_type": "code",
      "execution_count": null,
      "id": "db4ae452",
      "metadata": {
        "id": "db4ae452",
        "outputId": "c2a56d67-9f3f-46f1-e996-9202310cfba0"
      },
      "outputs": [
        {
          "name": "stdout",
          "output_type": "stream",
          "text": [
            "Lift and Gain for Naive Bayes:\n",
            "    Decile  Positives  Count  Cumulative Positives  Cumulative Percentage  \\\n",
            "0       1          6      6                     6                   30.0   \n",
            "1       2          5      5                    11                   55.0   \n",
            "2       3          5      5                    16                   80.0   \n",
            "3       4          4      5                    20                  100.0   \n",
            "4       5          0      5                    20                  100.0   \n",
            "5       6          0      6                    20                  100.0   \n",
            "6       7          0      5                    20                  100.0   \n",
            "7       8          0      5                    20                  100.0   \n",
            "8       9          0      5                    20                  100.0   \n",
            "9      10          0      6                    20                  100.0   \n",
            "\n",
            "       Lift  Gain  \n",
            "0  3.000000  0.30  \n",
            "1  2.750000  0.55  \n",
            "2  2.666667  0.80  \n",
            "3  2.500000  1.00  \n",
            "4  2.000000  1.00  \n",
            "5  1.666667  1.00  \n",
            "6  1.428571  1.00  \n",
            "7  1.250000  1.00  \n",
            "8  1.111111  1.00  \n",
            "9  1.000000  1.00  \n",
            "\n",
            "Lift and Gain for Logistic Regression:\n",
            "    Decile  Positives  Count  Cumulative Positives  Cumulative Percentage  \\\n",
            "0       1          6      6                     6                   30.0   \n",
            "1       2          5      5                    11                   55.0   \n",
            "2       3          5      5                    16                   80.0   \n",
            "3       4          4      5                    20                  100.0   \n",
            "4       5          0      5                    20                  100.0   \n",
            "5       6          0      6                    20                  100.0   \n",
            "6       7          0      5                    20                  100.0   \n",
            "7       8          0      5                    20                  100.0   \n",
            "8       9          0      5                    20                  100.0   \n",
            "9      10          0      6                    20                  100.0   \n",
            "\n",
            "       Lift  Gain  \n",
            "0  3.000000  0.30  \n",
            "1  2.750000  0.55  \n",
            "2  2.666667  0.80  \n",
            "3  2.500000  1.00  \n",
            "4  2.000000  1.00  \n",
            "5  1.666667  1.00  \n",
            "6  1.428571  1.00  \n",
            "7  1.250000  1.00  \n",
            "8  1.111111  1.00  \n",
            "9  1.000000  1.00  \n"
          ]
        },
        {
          "data": {
            "image/png": "[encoded data removed]",
            "text/plain": [
              "<Figure size 1400x600 with 4 Axes>"
            ]
          },
          "metadata": {},
          "output_type": "display_data"
        }
      ],
      "source": [
        "lift_gain_nb = compute_lift_gain(y_test, y_prob_nb_test)\n",
        "lift_gain_lr = compute_lift_gain(y_test, y_prob_lr_test)\n",
        "\n",
        "# Print Lift and Gain results\n",
        "print(\"Lift and Gain for Naive Bayes:\\n\", lift_gain_nb)\n",
        "print(\"\\nLift and Gain for Logistic Regression:\\n\", lift_gain_lr)\n",
        "\n",
        "# Plot Lift and Gain charts\n",
        "fig, axes = plt.subplots(1, 2, figsize=(14, 6), sharex=True)\n",
        "\n",
        "# Naive Bayes Plot\n",
        "axes[0].plot(lift_gain_nb['Decile'], lift_gain_nb['Lift'], label=\"Lift Plot\", marker='o', color='blue')\n",
        "axes[0].set_title(\"Naive Bayes: Lift and Gain\")\n",
        "axes[0].set_xlabel(\"Deciles\")\n",
        "axes[0].set_ylabel(\"Lift\", color='blue')\n",
        "axes[0].tick_params(axis='y', labelcolor='blue')\n",
        "ax2_0 = axes[0].twinx()\n",
        "ax2_0.plot(lift_gain_nb['Decile'], lift_gain_nb['Gain'], label=\"Gain Plot\", marker='o', color='green')\n",
        "ax2_0.set_ylabel(\"Gain\", color='green')\n",
        "ax2_0.tick_params(axis='y', labelcolor='green')\n",
        "lines_0, labels_0 = axes[0].get_legend_handles_labels()\n",
        "lines_2_0, labels_2_0 = ax2_0.get_legend_handles_labels()\n",
        "axes[0].legend(lines_0 + lines_2_0, labels_0 + labels_2_0, loc='lower center')\n",
        "axes[0].grid()\n",
        "\n",
        "# Logistic Regression Plot\n",
        "axes[1].plot(lift_gain_lr['Decile'], lift_gain_lr['Lift'], label=\"Lift Plot\", marker='o', color='blue')\n",
        "axes[1].set_title(\"Logistic Regression: Lift and Gain\")\n",
        "axes[1].set_xlabel(\"Deciles\")\n",
        "axes[1].set_ylabel(\"Lift\", color='blue')\n",
        "axes[1].tick_params(axis='y', labelcolor='blue')\n",
        "ax2_1 = axes[1].twinx()\n",
        "ax2_1.plot(lift_gain_lr['Decile'], lift_gain_lr['Gain'], label=\"Gain Plot\", marker='o', color='green')\n",
        "ax2_1.set_ylabel(\"Gain\", color='green')\n",
        "ax2_1.tick_params(axis='y', labelcolor='green')\n",
        "lines_1, labels_1 = axes[1].get_legend_handles_labels()\n",
        "lines_2_1, labels_2_1 = ax2_1.get_legend_handles_labels()\n",
        "axes[1].legend(lines_1 + lines_2_1, labels_1 + labels_2_1, loc=\"lower center\")\n",
        "axes[1].grid()\n",
        "\n",
        "# Final adjustments\n",
        "plt.tight_layout()\n",
        "plt.show()"
      ]
    },
    {
      "cell_type": "markdown",
      "id": "af89eaca",
      "metadata": {
        "id": "af89eaca"
      },
      "source": [
        "# Performing on a complex dataset"
      ]
    },
    {
      "cell_type": "markdown",
      "source": [
        "## Load the MNIST Dataset\n",
        "\n",
        "### Loading and Filtering\n",
        "- The MNIST dataset is loaded using the `fetch_openml` function.\n",
        "- The dataset is filtered to include only the digits `0` and `8`.\n",
        "- This reduces the classification problem to a binary task, simplifying the analysis.\n",
        "\n"
      ],
      "metadata": {
        "id": "aKSSDktfoN6_"
      },
      "id": "aKSSDktfoN6_"
    },
    {
      "cell_type": "code",
      "execution_count": null,
      "id": "48dd157c",
      "metadata": {
        "id": "48dd157c",
        "outputId": "c4e1ee2a-568b-4ab5-af7a-9b64865c676a"
      },
      "outputs": [
        {
          "name": "stdout",
          "output_type": "stream",
          "text": [
            "Filtered dataset shape: (13728, 784)\n",
            "Filtered labels shape: (13728,)\n"
          ]
        }
      ],
      "source": [
        "import numpy as np\n",
        "import pandas as pd\n",
        "import matplotlib.pyplot as plt\n",
        "from sklearn.datasets import fetch_openml\n",
        "from sklearn.model_selection import train_test_split\n",
        "from sklearn.naive_bayes import GaussianNB\n",
        "from sklearn.linear_model import LogisticRegression\n",
        "from sklearn.preprocessing import StandardScaler\n",
        "from sklearn.metrics import (\n",
        "    accuracy_score, confusion_matrix, classification_report,\n",
        "    roc_auc_score, roc_curve\n",
        ")\n",
        "\n",
        "# Loading MNIST dataset\n",
        "mnist = fetch_openml('mnist_784', version=1)\n",
        "X, y = mnist.data, mnist.target\n",
        "\n",
        "# Filtering for digits 0 and 8 only\n",
        "mask = (y == '0') | (y == '8')\n",
        "X = X[mask]\n",
        "y = y[mask]\n",
        "\n",
        "y = y.astype(int)\n",
        "\n",
        "print(\"Filtered dataset shape:\", X.shape)\n",
        "print(\"Filtered labels shape:\", y.shape)"
      ]
    },
    {
      "cell_type": "markdown",
      "source": [
        "## Data Preprocessing\n",
        "\n",
        "### Scaling and Splitting\n",
        "- Features are scaled using `StandardScaler`, normalizing pixel intensity values.\n",
        "- The dataset is split into training and testing sets, with 80% of the data used for training and 20% for testing.\n",
        "- The `random_state=42` ensures the split is reproducible."
      ],
      "metadata": {
        "id": "b4il7zlMofw9"
      },
      "id": "b4il7zlMofw9"
    },
    {
      "cell_type": "code",
      "execution_count": null,
      "id": "ef31ae58",
      "metadata": {
        "id": "ef31ae58",
        "outputId": "355d96f4-9354-413c-cbff-74c50a9b6b0e"
      },
      "outputs": [
        {
          "name": "stdout",
          "output_type": "stream",
          "text": [
            "X_train shape: (10982, 784)\n",
            "X_test shape: (2746, 784)\n",
            "y_train shape: (10982,)\n",
            "y_test shape: (2746,)\n"
          ]
        }
      ],
      "source": [
        "scaler = StandardScaler()\n",
        "X_scaled = scaler.fit_transform(X)\n",
        "\n",
        "X_train, X_test, y_train, y_test = train_test_split(\n",
        "    X_scaled, y, test_size=0.2, random_state=42\n",
        ")\n",
        "\n",
        "print(\"X_train shape:\", X_train.shape)\n",
        "print(\"X_test shape:\", X_test.shape)\n",
        "print(\"y_train shape:\", y_train.shape)\n",
        "print(\"y_test shape:\", y_test.shape)"
      ]
    },
    {
      "cell_type": "markdown",
      "source": [
        "## Model Training and Evaluation: Naive Bayes\n",
        "\n",
        "### Training the Naive Bayes Model\n",
        "- A `GaussianNB` model is trained on the scaled training data.\n",
        "- The model uses Gaussian likelihood assumptions to classify the digits.\n"
      ],
      "metadata": {
        "id": "1IUxlfBmoj_Y"
      },
      "id": "1IUxlfBmoj_Y"
    },
    {
      "cell_type": "code",
      "execution_count": null,
      "id": "fd5feddf",
      "metadata": {
        "id": "fd5feddf",
        "outputId": "2cdeab0b-6ec0-434b-c20a-4766584fd7b7"
      },
      "outputs": [
        {
          "data": {
            "text/html": [
              "<style>#sk-container-id-6 {\n",
              "  /* Definition of color scheme common for light and dark mode */\n",
              "  --sklearn-color-text: black;\n",
              "  --sklearn-color-line: gray;\n",
              "  /* Definition of color scheme for unfitted estimators */\n",
              "  --sklearn-color-unfitted-level-0: #fff5e6;\n",
              "  --sklearn-color-unfitted-level-1: #f6e4d2;\n",
              "  --sklearn-color-unfitted-level-2: #ffe0b3;\n",
              "  --sklearn-color-unfitted-level-3: chocolate;\n",
              "  /* Definition of color scheme for fitted estimators */\n",
              "  --sklearn-color-fitted-level-0: #f0f8ff;\n",
              "  --sklearn-color-fitted-level-1: #d4ebff;\n",
              "  --sklearn-color-fitted-level-2: #b3dbfd;\n",
              "  --sklearn-color-fitted-level-3: cornflowerblue;\n",
              "\n",
              "  /* Specific color for light theme */\n",
              "  --sklearn-color-text-on-default-background: var(--sg-text-color, var(--theme-code-foreground, var(--jp-content-font-color1, black)));\n",
              "  --sklearn-color-background: var(--sg-background-color, var(--theme-background, var(--jp-layout-color0, white)));\n",
              "  --sklearn-color-border-box: var(--sg-text-color, var(--theme-code-foreground, var(--jp-content-font-color1, black)));\n",
              "  --sklearn-color-icon: #696969;\n",
              "\n",
              "  @media (prefers-color-scheme: dark) {\n",
              "    /* Redefinition of color scheme for dark theme */\n",
              "    --sklearn-color-text-on-default-background: var(--sg-text-color, var(--theme-code-foreground, var(--jp-content-font-color1, white)));\n",
              "    --sklearn-color-background: var(--sg-background-color, var(--theme-background, var(--jp-layout-color0, #111)));\n",
              "    --sklearn-color-border-box: var(--sg-text-color, var(--theme-code-foreground, var(--jp-content-font-color1, white)));\n",
              "    --sklearn-color-icon: #878787;\n",
              "  }\n",
              "}\n",
              "\n",
              "#sk-container-id-6 {\n",
              "  color: var(--sklearn-color-text);\n",
              "}\n",
              "\n",
              "#sk-container-id-6 pre {\n",
              "  padding: 0;\n",
              "}\n",
              "\n",
              "#sk-container-id-6 input.sk-hidden--visually {\n",
              "  border: 0;\n",
              "  clip: rect(1px 1px 1px 1px);\n",
              "  clip: rect(1px, 1px, 1px, 1px);\n",
              "  height: 1px;\n",
              "  margin: -1px;\n",
              "  overflow: hidden;\n",
              "  padding: 0;\n",
              "  position: absolute;\n",
              "  width: 1px;\n",
              "}\n",
              "\n",
              "#sk-container-id-6 div.sk-dashed-wrapped {\n",
              "  border: 1px dashed var(--sklearn-color-line);\n",
              "  margin: 0 0.4em 0.5em 0.4em;\n",
              "  box-sizing: border-box;\n",
              "  padding-bottom: 0.4em;\n",
              "  background-color: var(--sklearn-color-background);\n",
              "}\n",
              "\n",
              "#sk-container-id-6 div.sk-container {\n",
              "  /* jupyter's `normalize.less` sets `[hidden] { display: none; }`\n",
              "     but bootstrap.min.css set `[hidden] { display: none !important; }`\n",
              "     so we also need the `!important` here to be able to override the\n",
              "     default hidden behavior on the sphinx rendered scikit-learn.org.\n",
              "     See: https://github.com/scikit-learn/scikit-learn/issues/21755 */\n",
              "  display: inline-block !important;\n",
              "  position: relative;\n",
              "}\n",
              "\n",
              "#sk-container-id-6 div.sk-text-repr-fallback {\n",
              "  display: none;\n",
              "}\n",
              "\n",
              "div.sk-parallel-item,\n",
              "div.sk-serial,\n",
              "div.sk-item {\n",
              "  /* draw centered vertical line to link estimators */\n",
              "  background-image: linear-gradient(var(--sklearn-color-text-on-default-background), var(--sklearn-color-text-on-default-background));\n",
              "  background-size: 2px 100%;\n",
              "  background-repeat: no-repeat;\n",
              "  background-position: center center;\n",
              "}\n",
              "\n",
              "/* Parallel-specific style estimator block */\n",
              "\n",
              "#sk-container-id-6 div.sk-parallel-item::after {\n",
              "  content: \"\";\n",
              "  width: 100%;\n",
              "  border-bottom: 2px solid var(--sklearn-color-text-on-default-background);\n",
              "  flex-grow: 1;\n",
              "}\n",
              "\n",
              "#sk-container-id-6 div.sk-parallel {\n",
              "  display: flex;\n",
              "  align-items: stretch;\n",
              "  justify-content: center;\n",
              "  background-color: var(--sklearn-color-background);\n",
              "  position: relative;\n",
              "}\n",
              "\n",
              "#sk-container-id-6 div.sk-parallel-item {\n",
              "  display: flex;\n",
              "  flex-direction: column;\n",
              "}\n",
              "\n",
              "#sk-container-id-6 div.sk-parallel-item:first-child::after {\n",
              "  align-self: flex-end;\n",
              "  width: 50%;\n",
              "}\n",
              "\n",
              "#sk-container-id-6 div.sk-parallel-item:last-child::after {\n",
              "  align-self: flex-start;\n",
              "  width: 50%;\n",
              "}\n",
              "\n",
              "#sk-container-id-6 div.sk-parallel-item:only-child::after {\n",
              "  width: 0;\n",
              "}\n",
              "\n",
              "/* Serial-specific style estimator block */\n",
              "\n",
              "#sk-container-id-6 div.sk-serial {\n",
              "  display: flex;\n",
              "  flex-direction: column;\n",
              "  align-items: center;\n",
              "  background-color: var(--sklearn-color-background);\n",
              "  padding-right: 1em;\n",
              "  padding-left: 1em;\n",
              "}\n",
              "\n",
              "\n",
              "/* Toggleable style: style used for estimator/Pipeline/ColumnTransformer box that is\n",
              "clickable and can be expanded/collapsed.\n",
              "- Pipeline and ColumnTransformer use this feature and define the default style\n",
              "- Estimators will overwrite some part of the style using the `sk-estimator` class\n",
              "*/\n",
              "\n",
              "/* Pipeline and ColumnTransformer style (default) */\n",
              "\n",
              "#sk-container-id-6 div.sk-toggleable {\n",
              "  /* Default theme specific background. It is overwritten whether we have a\n",
              "  specific estimator or a Pipeline/ColumnTransformer */\n",
              "  background-color: var(--sklearn-color-background);\n",
              "}\n",
              "\n",
              "/* Toggleable label */\n",
              "#sk-container-id-6 label.sk-toggleable__label {\n",
              "  cursor: pointer;\n",
              "  display: block;\n",
              "  width: 100%;\n",
              "  margin-bottom: 0;\n",
              "  padding: 0.5em;\n",
              "  box-sizing: border-box;\n",
              "  text-align: center;\n",
              "}\n",
              "\n",
              "#sk-container-id-6 label.sk-toggleable__label-arrow:before {\n",
              "  /* Arrow on the left of the label */\n",
              "  content: \"▸\";\n",
              "  float: left;\n",
              "  margin-right: 0.25em;\n",
              "  color: var(--sklearn-color-icon);\n",
              "}\n",
              "\n",
              "#sk-container-id-6 label.sk-toggleable__label-arrow:hover:before {\n",
              "  color: var(--sklearn-color-text);\n",
              "}\n",
              "\n",
              "/* Toggleable content - dropdown */\n",
              "\n",
              "#sk-container-id-6 div.sk-toggleable__content {\n",
              "  max-height: 0;\n",
              "  max-width: 0;\n",
              "  overflow: hidden;\n",
              "  text-align: left;\n",
              "  /* unfitted */\n",
              "  background-color: var(--sklearn-color-unfitted-level-0);\n",
              "}\n",
              "\n",
              "#sk-container-id-6 div.sk-toggleable__content.fitted {\n",
              "  /* fitted */\n",
              "  background-color: var(--sklearn-color-fitted-level-0);\n",
              "}\n",
              "\n",
              "#sk-container-id-6 div.sk-toggleable__content pre {\n",
              "  margin: 0.2em;\n",
              "  border-radius: 0.25em;\n",
              "  color: var(--sklearn-color-text);\n",
              "  /* unfitted */\n",
              "  background-color: var(--sklearn-color-unfitted-level-0);\n",
              "}\n",
              "\n",
              "#sk-container-id-6 div.sk-toggleable__content.fitted pre {\n",
              "  /* unfitted */\n",
              "  background-color: var(--sklearn-color-fitted-level-0);\n",
              "}\n",
              "\n",
              "#sk-container-id-6 input.sk-toggleable__control:checked~div.sk-toggleable__content {\n",
              "  /* Expand drop-down */\n",
              "  max-height: 200px;\n",
              "  max-width: 100%;\n",
              "  overflow: auto;\n",
              "}\n",
              "\n",
              "#sk-container-id-6 input.sk-toggleable__control:checked~label.sk-toggleable__label-arrow:before {\n",
              "  content: \"▾\";\n",
              "}\n",
              "\n",
              "/* Pipeline/ColumnTransformer-specific style */\n",
              "\n",
              "#sk-container-id-6 div.sk-label input.sk-toggleable__control:checked~label.sk-toggleable__label {\n",
              "  color: var(--sklearn-color-text);\n",
              "  background-color: var(--sklearn-color-unfitted-level-2);\n",
              "}\n",
              "\n",
              "#sk-container-id-6 div.sk-label.fitted input.sk-toggleable__control:checked~label.sk-toggleable__label {\n",
              "  background-color: var(--sklearn-color-fitted-level-2);\n",
              "}\n",
              "\n",
              "/* Estimator-specific style */\n",
              "\n",
              "/* Colorize estimator box */\n",
              "#sk-container-id-6 div.sk-estimator input.sk-toggleable__control:checked~label.sk-toggleable__label {\n",
              "  /* unfitted */\n",
              "  background-color: var(--sklearn-color-unfitted-level-2);\n",
              "}\n",
              "\n",
              "#sk-container-id-6 div.sk-estimator.fitted input.sk-toggleable__control:checked~label.sk-toggleable__label {\n",
              "  /* fitted */\n",
              "  background-color: var(--sklearn-color-fitted-level-2);\n",
              "}\n",
              "\n",
              "#sk-container-id-6 div.sk-label label.sk-toggleable__label,\n",
              "#sk-container-id-6 div.sk-label label {\n",
              "  /* The background is the default theme color */\n",
              "  color: var(--sklearn-color-text-on-default-background);\n",
              "}\n",
              "\n",
              "/* On hover, darken the color of the background */\n",
              "#sk-container-id-6 div.sk-label:hover label.sk-toggleable__label {\n",
              "  color: var(--sklearn-color-text);\n",
              "  background-color: var(--sklearn-color-unfitted-level-2);\n",
              "}\n",
              "\n",
              "/* Label box, darken color on hover, fitted */\n",
              "#sk-container-id-6 div.sk-label.fitted:hover label.sk-toggleable__label.fitted {\n",
              "  color: var(--sklearn-color-text);\n",
              "  background-color: var(--sklearn-color-fitted-level-2);\n",
              "}\n",
              "\n",
              "/* Estimator label */\n",
              "\n",
              "#sk-container-id-6 div.sk-label label {\n",
              "  font-family: monospace;\n",
              "  font-weight: bold;\n",
              "  display: inline-block;\n",
              "  line-height: 1.2em;\n",
              "}\n",
              "\n",
              "#sk-container-id-6 div.sk-label-container {\n",
              "  text-align: center;\n",
              "}\n",
              "\n",
              "/* Estimator-specific */\n",
              "#sk-container-id-6 div.sk-estimator {\n",
              "  font-family: monospace;\n",
              "  border: 1px dotted var(--sklearn-color-border-box);\n",
              "  border-radius: 0.25em;\n",
              "  box-sizing: border-box;\n",
              "  margin-bottom: 0.5em;\n",
              "  /* unfitted */\n",
              "  background-color: var(--sklearn-color-unfitted-level-0);\n",
              "}\n",
              "\n",
              "#sk-container-id-6 div.sk-estimator.fitted {\n",
              "  /* fitted */\n",
              "  background-color: var(--sklearn-color-fitted-level-0);\n",
              "}\n",
              "\n",
              "/* on hover */\n",
              "#sk-container-id-6 div.sk-estimator:hover {\n",
              "  /* unfitted */\n",
              "  background-color: var(--sklearn-color-unfitted-level-2);\n",
              "}\n",
              "\n",
              "#sk-container-id-6 div.sk-estimator.fitted:hover {\n",
              "  /* fitted */\n",
              "  background-color: var(--sklearn-color-fitted-level-2);\n",
              "}\n",
              "\n",
              "/* Specification for estimator info (e.g. \"i\" and \"?\") */\n",
              "\n",
              "/* Common style for \"i\" and \"?\" */\n",
              "\n",
              ".sk-estimator-doc-link,\n",
              "a:link.sk-estimator-doc-link,\n",
              "a:visited.sk-estimator-doc-link {\n",
              "  float: right;\n",
              "  font-size: smaller;\n",
              "  line-height: 1em;\n",
              "  font-family: monospace;\n",
              "  background-color: var(--sklearn-color-background);\n",
              "  border-radius: 1em;\n",
              "  height: 1em;\n",
              "  width: 1em;\n",
              "  text-decoration: none !important;\n",
              "  margin-left: 1ex;\n",
              "  /* unfitted */\n",
              "  border: var(--sklearn-color-unfitted-level-1) 1pt solid;\n",
              "  color: var(--sklearn-color-unfitted-level-1);\n",
              "}\n",
              "\n",
              ".sk-estimator-doc-link.fitted,\n",
              "a:link.sk-estimator-doc-link.fitted,\n",
              "a:visited.sk-estimator-doc-link.fitted {\n",
              "  /* fitted */\n",
              "  border: var(--sklearn-color-fitted-level-1) 1pt solid;\n",
              "  color: var(--sklearn-color-fitted-level-1);\n",
              "}\n",
              "\n",
              "/* On hover */\n",
              "div.sk-estimator:hover .sk-estimator-doc-link:hover,\n",
              ".sk-estimator-doc-link:hover,\n",
              "div.sk-label-container:hover .sk-estimator-doc-link:hover,\n",
              ".sk-estimator-doc-link:hover {\n",
              "  /* unfitted */\n",
              "  background-color: var(--sklearn-color-unfitted-level-3);\n",
              "  color: var(--sklearn-color-background);\n",
              "  text-decoration: none;\n",
              "}\n",
              "\n",
              "div.sk-estimator.fitted:hover .sk-estimator-doc-link.fitted:hover,\n",
              ".sk-estimator-doc-link.fitted:hover,\n",
              "div.sk-label-container:hover .sk-estimator-doc-link.fitted:hover,\n",
              ".sk-estimator-doc-link.fitted:hover {\n",
              "  /* fitted */\n",
              "  background-color: var(--sklearn-color-fitted-level-3);\n",
              "  color: var(--sklearn-color-background);\n",
              "  text-decoration: none;\n",
              "}\n",
              "\n",
              "/* Span, style for the box shown on hovering the info icon */\n",
              ".sk-estimator-doc-link span {\n",
              "  display: none;\n",
              "  z-index: 9999;\n",
              "  position: relative;\n",
              "  font-weight: normal;\n",
              "  right: .2ex;\n",
              "  padding: .5ex;\n",
              "  margin: .5ex;\n",
              "  width: min-content;\n",
              "  min-width: 20ex;\n",
              "  max-width: 50ex;\n",
              "  color: var(--sklearn-color-text);\n",
              "  box-shadow: 2pt 2pt 4pt #999;\n",
              "  /* unfitted */\n",
              "  background: var(--sklearn-color-unfitted-level-0);\n",
              "  border: .5pt solid var(--sklearn-color-unfitted-level-3);\n",
              "}\n",
              "\n",
              ".sk-estimator-doc-link.fitted span {\n",
              "  /* fitted */\n",
              "  background: var(--sklearn-color-fitted-level-0);\n",
              "  border: var(--sklearn-color-fitted-level-3);\n",
              "}\n",
              "\n",
              ".sk-estimator-doc-link:hover span {\n",
              "  display: block;\n",
              "}\n",
              "\n",
              "/* \"?\"-specific style due to the `<a>` HTML tag */\n",
              "\n",
              "#sk-container-id-6 a.estimator_doc_link {\n",
              "  float: right;\n",
              "  font-size: 1rem;\n",
              "  line-height: 1em;\n",
              "  font-family: monospace;\n",
              "  background-color: var(--sklearn-color-background);\n",
              "  border-radius: 1rem;\n",
              "  height: 1rem;\n",
              "  width: 1rem;\n",
              "  text-decoration: none;\n",
              "  /* unfitted */\n",
              "  color: var(--sklearn-color-unfitted-level-1);\n",
              "  border: var(--sklearn-color-unfitted-level-1) 1pt solid;\n",
              "}\n",
              "\n",
              "#sk-container-id-6 a.estimator_doc_link.fitted {\n",
              "  /* fitted */\n",
              "  border: var(--sklearn-color-fitted-level-1) 1pt solid;\n",
              "  color: var(--sklearn-color-fitted-level-1);\n",
              "}\n",
              "\n",
              "/* On hover */\n",
              "#sk-container-id-6 a.estimator_doc_link:hover {\n",
              "  /* unfitted */\n",
              "  background-color: var(--sklearn-color-unfitted-level-3);\n",
              "  color: var(--sklearn-color-background);\n",
              "  text-decoration: none;\n",
              "}\n",
              "\n",
              "#sk-container-id-6 a.estimator_doc_link.fitted:hover {\n",
              "  /* fitted */\n",
              "  background-color: var(--sklearn-color-fitted-level-3);\n",
              "}\n",
              "</style><div id=\"sk-container-id-6\" class=\"sk-top-container\"><div class=\"sk-text-repr-fallback\"><pre>GaussianNB()</pre><b>In a Jupyter environment, please rerun this cell to show the HTML representation or trust the notebook. <br />On GitHub, the HTML representation is unable to render, please try loading this page with nbviewer.org.</b></div><div class=\"sk-container\" hidden><div class=\"sk-item\"><div class=\"sk-estimator fitted sk-toggleable\"><input class=\"sk-toggleable__control sk-hidden--visually\" id=\"sk-estimator-id-6\" type=\"checkbox\" checked><label for=\"sk-estimator-id-6\" class=\"sk-toggleable__label fitted sk-toggleable__label-arrow fitted\">&nbsp;&nbsp;GaussianNB<a class=\"sk-estimator-doc-link fitted\" rel=\"noreferrer\" target=\"_blank\" href=\"https://scikit-learn.org/1.4/modules/generated/sklearn.naive_bayes.GaussianNB.html\">?<span>Documentation for GaussianNB</span></a><span class=\"sk-estimator-doc-link fitted\">i<span>Fitted</span></span></label><div class=\"sk-toggleable__content fitted\"><pre>GaussianNB()</pre></div> </div></div></div></div>"
            ],
            "text/plain": [
              "GaussianNB()"
            ]
          },
          "execution_count": 45,
          "metadata": {},
          "output_type": "execute_result"
        }
      ],
      "source": [
        "# Train Naive Bayes model\n",
        "nb_model = GaussianNB()\n",
        "nb_model.fit(X_train, y_train)"
      ]
    },
    {
      "cell_type": "markdown",
      "source": [
        "### Predictions and Evaluation: Naive Bayes\n",
        "\n",
        "#### Predictions\n",
        "The model generates predictions for both the training and testing datasets.\n",
        "\n",
        "#### Performance Metrics\n",
        "- The accuracy for the training and test sets is calculated to evaluate the model's performance.\n",
        "- A detailed classification report provides precision, recall, F1-score, and support metrics for each class (Digits `0` and `8`).\n",
        "\n",
        "#### Results\n",
        "- **Train Accuracy:** 91.08%\n",
        "- **Test Accuracy:** 91.73%\n",
        "\n",
        "#### Classification Report\n",
        "| Class       | Precision | Recall | F1-Score | Support |\n",
        "|-------------|-----------|--------|----------|---------|\n",
        "| **Digit 0** | 0.98      | 0.85   | 0.91     | 1,385   |\n",
        "| **Digit 8** | 0.87      | 0.98   | 0.92     | 1,361   |\n",
        "| **Accuracy**| -         | -      | **0.92** | 2,746   |\n",
        "| **Macro Avg** | 0.92    | 0.92   | 0.92     | 2,746   |\n",
        "| **Weighted Avg** | 0.92 | 0.92   | 0.92     | 2,746   |\n"
      ],
      "metadata": {
        "id": "Cg4c_gGson2x"
      },
      "id": "Cg4c_gGson2x"
    },
    {
      "cell_type": "code",
      "execution_count": null,
      "id": "f29bdeab",
      "metadata": {
        "id": "f29bdeab",
        "outputId": "fa39d21b-0f77-4862-ee53-d09cfc591a34"
      },
      "outputs": [
        {
          "name": "stdout",
          "output_type": "stream",
          "text": [
            "Naive Bayes:\n",
            "Train Accuracy: 0.9108\n",
            "Test Accuracy: 0.9173\n",
            "Classification Report:\n",
            "              precision    recall  f1-score   support\n",
            "\n",
            "     Digit 0       0.98      0.85      0.91      1385\n",
            "     Digit 8       0.87      0.98      0.92      1361\n",
            "\n",
            "    accuracy                           0.92      2746\n",
            "   macro avg       0.92      0.92      0.92      2746\n",
            "weighted avg       0.92      0.92      0.92      2746\n",
            "\n"
          ]
        }
      ],
      "source": [
        "# Predictions\n",
        "nb_train_pred = nb_model.predict(X_train)\n",
        "nb_test_pred = nb_model.predict(X_test)\n",
        "\n",
        "# Accuracy Comparison and Classification Report\n",
        "print(\"Naive Bayes:\")\n",
        "print(f\"Train Accuracy: {accuracy_score(y_train, nb_train_pred):.4f}\")\n",
        "print(f\"Test Accuracy: {accuracy_score(y_test, nb_test_pred):.4f}\")\n",
        "print(\"Classification Report:\")\n",
        "print(classification_report(y_test, nb_test_pred, target_names=[\"Digit 0\", \"Digit 8\"]))"
      ]
    },
    {
      "cell_type": "markdown",
      "source": [
        "### Logistic Regression Model Training and Evaluation\n",
        "\n",
        "#### Model Training\n",
        "- The Logistic Regression model is trained with a maximum of 500 iterations to ensure convergence."
      ],
      "metadata": {
        "id": "qHFfRIALpJkZ"
      },
      "id": "qHFfRIALpJkZ"
    },
    {
      "cell_type": "code",
      "execution_count": null,
      "id": "e7d99d1b",
      "metadata": {
        "id": "e7d99d1b",
        "outputId": "0e959eb2-02fe-4ba7-8bdd-43d35d6d2822"
      },
      "outputs": [
        {
          "data": {
            "text/html": [
              "<style>#sk-container-id-7 {\n",
              "  /* Definition of color scheme common for light and dark mode */\n",
              "  --sklearn-color-text: black;\n",
              "  --sklearn-color-line: gray;\n",
              "  /* Definition of color scheme for unfitted estimators */\n",
              "  --sklearn-color-unfitted-level-0: #fff5e6;\n",
              "  --sklearn-color-unfitted-level-1: #f6e4d2;\n",
              "  --sklearn-color-unfitted-level-2: #ffe0b3;\n",
              "  --sklearn-color-unfitted-level-3: chocolate;\n",
              "  /* Definition of color scheme for fitted estimators */\n",
              "  --sklearn-color-fitted-level-0: #f0f8ff;\n",
              "  --sklearn-color-fitted-level-1: #d4ebff;\n",
              "  --sklearn-color-fitted-level-2: #b3dbfd;\n",
              "  --sklearn-color-fitted-level-3: cornflowerblue;\n",
              "\n",
              "  /* Specific color for light theme */\n",
              "  --sklearn-color-text-on-default-background: var(--sg-text-color, var(--theme-code-foreground, var(--jp-content-font-color1, black)));\n",
              "  --sklearn-color-background: var(--sg-background-color, var(--theme-background, var(--jp-layout-color0, white)));\n",
              "  --sklearn-color-border-box: var(--sg-text-color, var(--theme-code-foreground, var(--jp-content-font-color1, black)));\n",
              "  --sklearn-color-icon: #696969;\n",
              "\n",
              "  @media (prefers-color-scheme: dark) {\n",
              "    /* Redefinition of color scheme for dark theme */\n",
              "    --sklearn-color-text-on-default-background: var(--sg-text-color, var(--theme-code-foreground, var(--jp-content-font-color1, white)));\n",
              "    --sklearn-color-background: var(--sg-background-color, var(--theme-background, var(--jp-layout-color0, #111)));\n",
              "    --sklearn-color-border-box: var(--sg-text-color, var(--theme-code-foreground, var(--jp-content-font-color1, white)));\n",
              "    --sklearn-color-icon: #878787;\n",
              "  }\n",
              "}\n",
              "\n",
              "#sk-container-id-7 {\n",
              "  color: var(--sklearn-color-text);\n",
              "}\n",
              "\n",
              "#sk-container-id-7 pre {\n",
              "  padding: 0;\n",
              "}\n",
              "\n",
              "#sk-container-id-7 input.sk-hidden--visually {\n",
              "  border: 0;\n",
              "  clip: rect(1px 1px 1px 1px);\n",
              "  clip: rect(1px, 1px, 1px, 1px);\n",
              "  height: 1px;\n",
              "  margin: -1px;\n",
              "  overflow: hidden;\n",
              "  padding: 0;\n",
              "  position: absolute;\n",
              "  width: 1px;\n",
              "}\n",
              "\n",
              "#sk-container-id-7 div.sk-dashed-wrapped {\n",
              "  border: 1px dashed var(--sklearn-color-line);\n",
              "  margin: 0 0.4em 0.5em 0.4em;\n",
              "  box-sizing: border-box;\n",
              "  padding-bottom: 0.4em;\n",
              "  background-color: var(--sklearn-color-background);\n",
              "}\n",
              "\n",
              "#sk-container-id-7 div.sk-container {\n",
              "  /* jupyter's `normalize.less` sets `[hidden] { display: none; }`\n",
              "     but bootstrap.min.css set `[hidden] { display: none !important; }`\n",
              "     so we also need the `!important` here to be able to override the\n",
              "     default hidden behavior on the sphinx rendered scikit-learn.org.\n",
              "     See: https://github.com/scikit-learn/scikit-learn/issues/21755 */\n",
              "  display: inline-block !important;\n",
              "  position: relative;\n",
              "}\n",
              "\n",
              "#sk-container-id-7 div.sk-text-repr-fallback {\n",
              "  display: none;\n",
              "}\n",
              "\n",
              "div.sk-parallel-item,\n",
              "div.sk-serial,\n",
              "div.sk-item {\n",
              "  /* draw centered vertical line to link estimators */\n",
              "  background-image: linear-gradient(var(--sklearn-color-text-on-default-background), var(--sklearn-color-text-on-default-background));\n",
              "  background-size: 2px 100%;\n",
              "  background-repeat: no-repeat;\n",
              "  background-position: center center;\n",
              "}\n",
              "\n",
              "/* Parallel-specific style estimator block */\n",
              "\n",
              "#sk-container-id-7 div.sk-parallel-item::after {\n",
              "  content: \"\";\n",
              "  width: 100%;\n",
              "  border-bottom: 2px solid var(--sklearn-color-text-on-default-background);\n",
              "  flex-grow: 1;\n",
              "}\n",
              "\n",
              "#sk-container-id-7 div.sk-parallel {\n",
              "  display: flex;\n",
              "  align-items: stretch;\n",
              "  justify-content: center;\n",
              "  background-color: var(--sklearn-color-background);\n",
              "  position: relative;\n",
              "}\n",
              "\n",
              "#sk-container-id-7 div.sk-parallel-item {\n",
              "  display: flex;\n",
              "  flex-direction: column;\n",
              "}\n",
              "\n",
              "#sk-container-id-7 div.sk-parallel-item:first-child::after {\n",
              "  align-self: flex-end;\n",
              "  width: 50%;\n",
              "}\n",
              "\n",
              "#sk-container-id-7 div.sk-parallel-item:last-child::after {\n",
              "  align-self: flex-start;\n",
              "  width: 50%;\n",
              "}\n",
              "\n",
              "#sk-container-id-7 div.sk-parallel-item:only-child::after {\n",
              "  width: 0;\n",
              "}\n",
              "\n",
              "/* Serial-specific style estimator block */\n",
              "\n",
              "#sk-container-id-7 div.sk-serial {\n",
              "  display: flex;\n",
              "  flex-direction: column;\n",
              "  align-items: center;\n",
              "  background-color: var(--sklearn-color-background);\n",
              "  padding-right: 1em;\n",
              "  padding-left: 1em;\n",
              "}\n",
              "\n",
              "\n",
              "/* Toggleable style: style used for estimator/Pipeline/ColumnTransformer box that is\n",
              "clickable and can be expanded/collapsed.\n",
              "- Pipeline and ColumnTransformer use this feature and define the default style\n",
              "- Estimators will overwrite some part of the style using the `sk-estimator` class\n",
              "*/\n",
              "\n",
              "/* Pipeline and ColumnTransformer style (default) */\n",
              "\n",
              "#sk-container-id-7 div.sk-toggleable {\n",
              "  /* Default theme specific background. It is overwritten whether we have a\n",
              "  specific estimator or a Pipeline/ColumnTransformer */\n",
              "  background-color: var(--sklearn-color-background);\n",
              "}\n",
              "\n",
              "/* Toggleable label */\n",
              "#sk-container-id-7 label.sk-toggleable__label {\n",
              "  cursor: pointer;\n",
              "  display: block;\n",
              "  width: 100%;\n",
              "  margin-bottom: 0;\n",
              "  padding: 0.5em;\n",
              "  box-sizing: border-box;\n",
              "  text-align: center;\n",
              "}\n",
              "\n",
              "#sk-container-id-7 label.sk-toggleable__label-arrow:before {\n",
              "  /* Arrow on the left of the label */\n",
              "  content: \"▸\";\n",
              "  float: left;\n",
              "  margin-right: 0.25em;\n",
              "  color: var(--sklearn-color-icon);\n",
              "}\n",
              "\n",
              "#sk-container-id-7 label.sk-toggleable__label-arrow:hover:before {\n",
              "  color: var(--sklearn-color-text);\n",
              "}\n",
              "\n",
              "/* Toggleable content - dropdown */\n",
              "\n",
              "#sk-container-id-7 div.sk-toggleable__content {\n",
              "  max-height: 0;\n",
              "  max-width: 0;\n",
              "  overflow: hidden;\n",
              "  text-align: left;\n",
              "  /* unfitted */\n",
              "  background-color: var(--sklearn-color-unfitted-level-0);\n",
              "}\n",
              "\n",
              "#sk-container-id-7 div.sk-toggleable__content.fitted {\n",
              "  /* fitted */\n",
              "  background-color: var(--sklearn-color-fitted-level-0);\n",
              "}\n",
              "\n",
              "#sk-container-id-7 div.sk-toggleable__content pre {\n",
              "  margin: 0.2em;\n",
              "  border-radius: 0.25em;\n",
              "  color: var(--sklearn-color-text);\n",
              "  /* unfitted */\n",
              "  background-color: var(--sklearn-color-unfitted-level-0);\n",
              "}\n",
              "\n",
              "#sk-container-id-7 div.sk-toggleable__content.fitted pre {\n",
              "  /* unfitted */\n",
              "  background-color: var(--sklearn-color-fitted-level-0);\n",
              "}\n",
              "\n",
              "#sk-container-id-7 input.sk-toggleable__control:checked~div.sk-toggleable__content {\n",
              "  /* Expand drop-down */\n",
              "  max-height: 200px;\n",
              "  max-width: 100%;\n",
              "  overflow: auto;\n",
              "}\n",
              "\n",
              "#sk-container-id-7 input.sk-toggleable__control:checked~label.sk-toggleable__label-arrow:before {\n",
              "  content: \"▾\";\n",
              "}\n",
              "\n",
              "/* Pipeline/ColumnTransformer-specific style */\n",
              "\n",
              "#sk-container-id-7 div.sk-label input.sk-toggleable__control:checked~label.sk-toggleable__label {\n",
              "  color: var(--sklearn-color-text);\n",
              "  background-color: var(--sklearn-color-unfitted-level-2);\n",
              "}\n",
              "\n",
              "#sk-container-id-7 div.sk-label.fitted input.sk-toggleable__control:checked~label.sk-toggleable__label {\n",
              "  background-color: var(--sklearn-color-fitted-level-2);\n",
              "}\n",
              "\n",
              "/* Estimator-specific style */\n",
              "\n",
              "/* Colorize estimator box */\n",
              "#sk-container-id-7 div.sk-estimator input.sk-toggleable__control:checked~label.sk-toggleable__label {\n",
              "  /* unfitted */\n",
              "  background-color: var(--sklearn-color-unfitted-level-2);\n",
              "}\n",
              "\n",
              "#sk-container-id-7 div.sk-estimator.fitted input.sk-toggleable__control:checked~label.sk-toggleable__label {\n",
              "  /* fitted */\n",
              "  background-color: var(--sklearn-color-fitted-level-2);\n",
              "}\n",
              "\n",
              "#sk-container-id-7 div.sk-label label.sk-toggleable__label,\n",
              "#sk-container-id-7 div.sk-label label {\n",
              "  /* The background is the default theme color */\n",
              "  color: var(--sklearn-color-text-on-default-background);\n",
              "}\n",
              "\n",
              "/* On hover, darken the color of the background */\n",
              "#sk-container-id-7 div.sk-label:hover label.sk-toggleable__label {\n",
              "  color: var(--sklearn-color-text);\n",
              "  background-color: var(--sklearn-color-unfitted-level-2);\n",
              "}\n",
              "\n",
              "/* Label box, darken color on hover, fitted */\n",
              "#sk-container-id-7 div.sk-label.fitted:hover label.sk-toggleable__label.fitted {\n",
              "  color: var(--sklearn-color-text);\n",
              "  background-color: var(--sklearn-color-fitted-level-2);\n",
              "}\n",
              "\n",
              "/* Estimator label */\n",
              "\n",
              "#sk-container-id-7 div.sk-label label {\n",
              "  font-family: monospace;\n",
              "  font-weight: bold;\n",
              "  display: inline-block;\n",
              "  line-height: 1.2em;\n",
              "}\n",
              "\n",
              "#sk-container-id-7 div.sk-label-container {\n",
              "  text-align: center;\n",
              "}\n",
              "\n",
              "/* Estimator-specific */\n",
              "#sk-container-id-7 div.sk-estimator {\n",
              "  font-family: monospace;\n",
              "  border: 1px dotted var(--sklearn-color-border-box);\n",
              "  border-radius: 0.25em;\n",
              "  box-sizing: border-box;\n",
              "  margin-bottom: 0.5em;\n",
              "  /* unfitted */\n",
              "  background-color: var(--sklearn-color-unfitted-level-0);\n",
              "}\n",
              "\n",
              "#sk-container-id-7 div.sk-estimator.fitted {\n",
              "  /* fitted */\n",
              "  background-color: var(--sklearn-color-fitted-level-0);\n",
              "}\n",
              "\n",
              "/* on hover */\n",
              "#sk-container-id-7 div.sk-estimator:hover {\n",
              "  /* unfitted */\n",
              "  background-color: var(--sklearn-color-unfitted-level-2);\n",
              "}\n",
              "\n",
              "#sk-container-id-7 div.sk-estimator.fitted:hover {\n",
              "  /* fitted */\n",
              "  background-color: var(--sklearn-color-fitted-level-2);\n",
              "}\n",
              "\n",
              "/* Specification for estimator info (e.g. \"i\" and \"?\") */\n",
              "\n",
              "/* Common style for \"i\" and \"?\" */\n",
              "\n",
              ".sk-estimator-doc-link,\n",
              "a:link.sk-estimator-doc-link,\n",
              "a:visited.sk-estimator-doc-link {\n",
              "  float: right;\n",
              "  font-size: smaller;\n",
              "  line-height: 1em;\n",
              "  font-family: monospace;\n",
              "  background-color: var(--sklearn-color-background);\n",
              "  border-radius: 1em;\n",
              "  height: 1em;\n",
              "  width: 1em;\n",
              "  text-decoration: none !important;\n",
              "  margin-left: 1ex;\n",
              "  /* unfitted */\n",
              "  border: var(--sklearn-color-unfitted-level-1) 1pt solid;\n",
              "  color: var(--sklearn-color-unfitted-level-1);\n",
              "}\n",
              "\n",
              ".sk-estimator-doc-link.fitted,\n",
              "a:link.sk-estimator-doc-link.fitted,\n",
              "a:visited.sk-estimator-doc-link.fitted {\n",
              "  /* fitted */\n",
              "  border: var(--sklearn-color-fitted-level-1) 1pt solid;\n",
              "  color: var(--sklearn-color-fitted-level-1);\n",
              "}\n",
              "\n",
              "/* On hover */\n",
              "div.sk-estimator:hover .sk-estimator-doc-link:hover,\n",
              ".sk-estimator-doc-link:hover,\n",
              "div.sk-label-container:hover .sk-estimator-doc-link:hover,\n",
              ".sk-estimator-doc-link:hover {\n",
              "  /* unfitted */\n",
              "  background-color: var(--sklearn-color-unfitted-level-3);\n",
              "  color: var(--sklearn-color-background);\n",
              "  text-decoration: none;\n",
              "}\n",
              "\n",
              "div.sk-estimator.fitted:hover .sk-estimator-doc-link.fitted:hover,\n",
              ".sk-estimator-doc-link.fitted:hover,\n",
              "div.sk-label-container:hover .sk-estimator-doc-link.fitted:hover,\n",
              ".sk-estimator-doc-link.fitted:hover {\n",
              "  /* fitted */\n",
              "  background-color: var(--sklearn-color-fitted-level-3);\n",
              "  color: var(--sklearn-color-background);\n",
              "  text-decoration: none;\n",
              "}\n",
              "\n",
              "/* Span, style for the box shown on hovering the info icon */\n",
              ".sk-estimator-doc-link span {\n",
              "  display: none;\n",
              "  z-index: 9999;\n",
              "  position: relative;\n",
              "  font-weight: normal;\n",
              "  right: .2ex;\n",
              "  padding: .5ex;\n",
              "  margin: .5ex;\n",
              "  width: min-content;\n",
              "  min-width: 20ex;\n",
              "  max-width: 50ex;\n",
              "  color: var(--sklearn-color-text);\n",
              "  box-shadow: 2pt 2pt 4pt #999;\n",
              "  /* unfitted */\n",
              "  background: var(--sklearn-color-unfitted-level-0);\n",
              "  border: .5pt solid var(--sklearn-color-unfitted-level-3);\n",
              "}\n",
              "\n",
              ".sk-estimator-doc-link.fitted span {\n",
              "  /* fitted */\n",
              "  background: var(--sklearn-color-fitted-level-0);\n",
              "  border: var(--sklearn-color-fitted-level-3);\n",
              "}\n",
              "\n",
              ".sk-estimator-doc-link:hover span {\n",
              "  display: block;\n",
              "}\n",
              "\n",
              "/* \"?\"-specific style due to the `<a>` HTML tag */\n",
              "\n",
              "#sk-container-id-7 a.estimator_doc_link {\n",
              "  float: right;\n",
              "  font-size: 1rem;\n",
              "  line-height: 1em;\n",
              "  font-family: monospace;\n",
              "  background-color: var(--sklearn-color-background);\n",
              "  border-radius: 1rem;\n",
              "  height: 1rem;\n",
              "  width: 1rem;\n",
              "  text-decoration: none;\n",
              "  /* unfitted */\n",
              "  color: var(--sklearn-color-unfitted-level-1);\n",
              "  border: var(--sklearn-color-unfitted-level-1) 1pt solid;\n",
              "}\n",
              "\n",
              "#sk-container-id-7 a.estimator_doc_link.fitted {\n",
              "  /* fitted */\n",
              "  border: var(--sklearn-color-fitted-level-1) 1pt solid;\n",
              "  color: var(--sklearn-color-fitted-level-1);\n",
              "}\n",
              "\n",
              "/* On hover */\n",
              "#sk-container-id-7 a.estimator_doc_link:hover {\n",
              "  /* unfitted */\n",
              "  background-color: var(--sklearn-color-unfitted-level-3);\n",
              "  color: var(--sklearn-color-background);\n",
              "  text-decoration: none;\n",
              "}\n",
              "\n",
              "#sk-container-id-7 a.estimator_doc_link.fitted:hover {\n",
              "  /* fitted */\n",
              "  background-color: var(--sklearn-color-fitted-level-3);\n",
              "}\n",
              "</style><div id=\"sk-container-id-7\" class=\"sk-top-container\"><div class=\"sk-text-repr-fallback\"><pre>LogisticRegression(max_iter=500)</pre><b>In a Jupyter environment, please rerun this cell to show the HTML representation or trust the notebook. <br />On GitHub, the HTML representation is unable to render, please try loading this page with nbviewer.org.</b></div><div class=\"sk-container\" hidden><div class=\"sk-item\"><div class=\"sk-estimator fitted sk-toggleable\"><input class=\"sk-toggleable__control sk-hidden--visually\" id=\"sk-estimator-id-7\" type=\"checkbox\" checked><label for=\"sk-estimator-id-7\" class=\"sk-toggleable__label fitted sk-toggleable__label-arrow fitted\">&nbsp;&nbsp;LogisticRegression<a class=\"sk-estimator-doc-link fitted\" rel=\"noreferrer\" target=\"_blank\" href=\"https://scikit-learn.org/1.4/modules/generated/sklearn.linear_model.LogisticRegression.html\">?<span>Documentation for LogisticRegression</span></a><span class=\"sk-estimator-doc-link fitted\">i<span>Fitted</span></span></label><div class=\"sk-toggleable__content fitted\"><pre>LogisticRegression(max_iter=500)</pre></div> </div></div></div></div>"
            ],
            "text/plain": [
              "LogisticRegression(max_iter=500)"
            ]
          },
          "execution_count": 47,
          "metadata": {},
          "output_type": "execute_result"
        }
      ],
      "source": [
        "# Train Logistic Regression model\n",
        "lr_model = LogisticRegression(max_iter=500)  # Ensure convergence\n",
        "lr_model.fit(X_train, y_train)"
      ]
    },
    {
      "cell_type": "markdown",
      "source": [
        "### Predictions\n",
        "- Predictions are generated for both the training and testing datasets.\n",
        "\n",
        "### Performance Metrics\n",
        "- Accuracy is calculated for the training and test sets.\n",
        "- A classification report is generated to provide precision, recall, F1-score, and support metrics for each class (Digits `0` and `8`).\n",
        "\n",
        "### Results\n",
        "- **Train Accuracy:** 99.86%\n",
        "- **Test Accuracy:** 99.20%\n",
        "\n",
        "### Classification Report\n",
        "| Class       | Precision | Recall | F1-Score | Support |\n",
        "|-------------|-----------|--------|----------|---------|\n",
        "| **Digit 0** | 0.99      | 0.99   | 0.99     | 1,385   |\n",
        "| **Digit 8** | 0.99      | 0.99   | 0.99     | 1,361   |\n",
        "| **Accuracy**| -         | -      | **0.99** | 2,746   |\n",
        "| **Macro Avg** | 0.99    | 0.99   | 0.99     | 2,746   |\n",
        "| **Weighted Avg** | 0.99 | 0.99   | 0.99     | 2,746   |"
      ],
      "metadata": {
        "id": "HXU5phexpMVp"
      },
      "id": "HXU5phexpMVp"
    },
    {
      "cell_type": "code",
      "execution_count": null,
      "id": "35b0cd41",
      "metadata": {
        "id": "35b0cd41",
        "outputId": "879183eb-3cf7-4358-941a-36f234041bfd"
      },
      "outputs": [
        {
          "name": "stdout",
          "output_type": "stream",
          "text": [
            "\n",
            "Logistic Regression:\n",
            "Train Accuracy: 0.9986\n",
            "Test Accuracy: 0.9920\n",
            "Classification Report:\n",
            "              precision    recall  f1-score   support\n",
            "\n",
            "     Digit 0       0.99      0.99      0.99      1385\n",
            "     Digit 8       0.99      0.99      0.99      1361\n",
            "\n",
            "    accuracy                           0.99      2746\n",
            "   macro avg       0.99      0.99      0.99      2746\n",
            "weighted avg       0.99      0.99      0.99      2746\n",
            "\n"
          ]
        }
      ],
      "source": [
        "lr_train_pred = lr_model.predict(X_train)\n",
        "lr_test_pred = lr_model.predict(X_test)\n",
        "\n",
        "print(\"\\nLogistic Regression:\")\n",
        "print(f\"Train Accuracy: {accuracy_score(y_train, lr_train_pred):.4f}\")\n",
        "print(f\"Test Accuracy: {accuracy_score(y_test, lr_test_pred):.4f}\")\n",
        "print(\"Classification Report:\")\n",
        "print(classification_report(y_test, lr_test_pred, target_names=[\"Digit 0\", \"Digit 8\"]))"
      ]
    },
    {
      "cell_type": "markdown",
      "source": [
        "### Model Comparison and Conclusion\n",
        "\n",
        "#### Performance Comparison\n",
        "\n",
        "| Metric                  | Naive Bayes           | Logistic Regression    |\n",
        "|-------------------------|-----------------------|------------------------|\n",
        "| **Train Accuracy**      | 91.08%               | 99.86%                |\n",
        "| **Test Accuracy**       | 91.73%               | 99.20%                |\n",
        "| **Precision (Digit 0)** | 0.98                 | 0.99                  |\n",
        "| **Precision (Digit 8)** | 0.87                 | 0.99                  |\n",
        "| **Recall (Digit 0)**    | 0.85                 | 0.99                  |\n",
        "| **Recall (Digit 8)**    | 0.98                 | 0.99                  |\n",
        "| **F1-Score (Digit 0)**  | 0.91                 | 0.99                  |\n",
        "| **F1-Score (Digit 8)**  | 0.92                 | 0.99                  |\n",
        "| **Macro Avg F1-Score**  | 0.92                 | 0.99                  |\n",
        "| **Weighted Avg F1-Score** | 0.92               | 0.99                  |\n",
        "\n",
        "#### Observations\n",
        "1. Logistic Regression significantly outperforms Naive Bayes in terms of accuracy for both the training and testing datasets.\n",
        "2. Precision, recall, and F1-scores for both classes (`Digit 0` and `Digit 8`) are consistently higher for Logistic Regression.\n",
        "3. Naive Bayes struggles more with `Digit 0` as reflected by a lower recall value compared to Logistic Regression.\n",
        "\n",
        "#### Conclusion\n",
        "- Logistic Regression demonstrates superior performance for this dataset, achieving higher accuracy and balanced metrics across both classes. This makes it the preferred model for this classification task.\n",
        "- Naive Bayes, while simpler and computationally less intensive, may still be viable for cases with limited computational resources but with a trade-off in performance.\n"
      ],
      "metadata": {
        "id": "wARJPYrFph9V"
      },
      "id": "wARJPYrFph9V"
    },
    {
      "cell_type": "markdown",
      "source": [
        "### **Model AUC Comparison**\n",
        "\n",
        "#### **ROC Analysis**\n",
        "- The ROC Curve is an evaluation metric to assess model performance.\n",
        "- Both the Naive Bayes and Logistic Regression models have been evaluated for their True Positive Rate (TPR) and False Positive Rate (FPR) using the Area Under the Curve (AUC) metric.\n",
        "\n",
        "#### **AUC Scores**\n",
        "- **Naive Bayes**: The AUC score is **0.9334**, which indicates that the model performs well in distinguishing between classes but has slightly less precision compared to Logistic Regression.\n",
        "- **Logistic Regression**: The AUC score is **0.9996**, showing nearly perfect discrimination between classes.\n",
        "\n",
        "#### **Observations from the ROC Curve**\n",
        "- The **Logistic Regression** curve closely approaches the upper left corner, showcasing near-optimal performance.\n",
        "- **Naive Bayes**, while still performing strongly, displays a slight deviation, with fewer True Positives captured at lower False Positive Rates.\n",
        "\n",
        "#### **Conclusion**\n",
        "- The **Logistic Regression model** outperforms Naive Bayes based on the AUC metric, achieving nearly ideal classification performance.\n",
        "- However, both models are effective classifiers, with Naive Bayes offering solid performance and Logistic Regression demonstrating exceptional reliability for this dataset.\n"
      ],
      "metadata": {
        "id": "w9_pLsotpkFi"
      },
      "id": "w9_pLsotpkFi"
    },
    {
      "cell_type": "code",
      "execution_count": null,
      "id": "32c16318",
      "metadata": {
        "id": "32c16318",
        "outputId": "7a390b4e-a030-44d7-90b7-9eda2ccaf82f"
      },
      "outputs": [
        {
          "name": "stdout",
          "output_type": "stream",
          "text": [
            "\n",
            "AUC:\n",
            "Naive Bayes: 0.9334\n",
            "Logistic Regression: 0.9996\n"
          ]
        },
        {
          "data": {
            "image/png": "[encoded data removed]",
            "text/plain": [
              "<Figure size 800x600 with 1 Axes>"
            ]
          },
          "metadata": {},
          "output_type": "display_data"
        }
      ],
      "source": [
        "# AUC Comparison\n",
        "nb_test_proba = nb_model.predict_proba(X_test)[:, 1]\n",
        "lr_test_proba = lr_model.predict_proba(X_test)[:, 1]\n",
        "nb_auc = roc_auc_score(y_test, nb_test_proba)\n",
        "lr_auc = roc_auc_score(y_test, lr_test_proba)\n",
        "\n",
        "print(\"\\nAUC:\")\n",
        "print(f\"Naive Bayes: {nb_auc:.4f}\")\n",
        "print(f\"Logistic Regression: {lr_auc:.4f}\")\n",
        "\n",
        "# Calculate probabilities for ROC Curve\n",
        "proba_nb = nb_model.predict_proba(X_test)[:, 1]\n",
        "proba_lr = lr_model.predict_proba(X_test)[:, 1]\n",
        "\n",
        "# Calculate AUC for both models\n",
        "auc_nb = roc_auc_score(y_test, proba_nb)\n",
        "auc_lr = roc_auc_score(y_test, proba_lr)\n",
        "\n",
        "# Plot ROC Curves\n",
        "fpr_nb, tpr_nb, _ = roc_curve(y_test, proba_nb, pos_label=8)\n",
        "fpr_lr, tpr_lr, _ = roc_curve(y_test, proba_lr, pos_label=8)\n",
        "\n",
        "plt.figure(figsize=(8, 6))\n",
        "plt.plot(fpr_nb, tpr_nb, label=f\"Naive Bayes (AUC={auc_nb:.2f})\")\n",
        "plt.plot(fpr_lr, tpr_lr, label=f\"Logistic Regression (AUC={auc_lr:.2f})\")\n",
        "plt.plot([0, 1], [0, 1], 'k--', label=\"Random Classifier (AUC=0.50)\")\n",
        "plt.title(\"ROC Curve\")\n",
        "plt.xlabel(\"False Positive Rate\")\n",
        "plt.ylabel(\"True Positive Rate\")\n",
        "plt.legend()\n",
        "plt.grid(True)\n",
        "plt.show()"
      ]
    },
    {
      "cell_type": "markdown",
      "source": [
        "### Implementation of Lift and Gain\n",
        "\n",
        "The function `compute_lift_gain` calculates lift and gain metrics by:\n",
        "1. Sorting predicted probabilities in descending order.\n",
        "2. Grouping the data into deciles.\n",
        "3. Computing cumulative positives, percentages, lift, and gain for each decile.\n",
        "\n",
        "Both models, Naive Bayes and Logistic Regression, were evaluated using this method."
      ],
      "metadata": {
        "id": "WTC8hH6cquAU"
      },
      "id": "WTC8hH6cquAU"
    },
    {
      "cell_type": "code",
      "execution_count": null,
      "id": "d8d8bfe1",
      "metadata": {
        "id": "d8d8bfe1"
      },
      "outputs": [],
      "source": [
        "def compute_lift_gain(y_true, y_prob, num_deciles=10):\n",
        "    y_true = pd.Series(y_true).reset_index(drop=True)\n",
        "    y_prob = pd.Series(y_prob).reset_index(drop=True)\n",
        "    df = pd.DataFrame({'Actual': y_true, 'Probability': y_prob})\n",
        "    df = df.sort_values('Probability', ascending=False)\n",
        "    df['Decile'] = pd.qcut(df['Probability'], q=num_deciles, labels=False, duplicates='drop')\n",
        "    gain, lift, positives, count, cumulative_positives, cumulative_percentage, decile = [], [], [], [], [], [], []\n",
        "    df['Decile'] = num_deciles - df['Decile']\n",
        "    grouped = df.groupby('Decile')\n",
        "    total_positives = df['Actual'].sum()\n",
        "    cum_positives = 0\n",
        "    for i in grouped.groups.keys():\n",
        "        decile.append(i)\n",
        "        grouped_df = grouped.get_group(i)\n",
        "        positives_in_decile = grouped_df['Actual'].sum()\n",
        "        positives.append(positives_in_decile)\n",
        "        count.append(len(grouped_df))\n",
        "        cum_positives += positives_in_decile\n",
        "        cumulative_positives.append(cum_positives)\n",
        "        cumulative_percentage.append(cum_positives / total_positives if total_positives != 0 else 0)\n",
        "        gain.append(cum_positives / total_positives if total_positives != 0 else 0)\n",
        "        lift.append((cum_positives / total_positives) / (i / num_deciles) if total_positives != 0 else 0)\n",
        "    return pd.DataFrame({'Decile': decile,\n",
        "                         'Positives': positives,\n",
        "                         'Count': count,\n",
        "                         'Cumulative Positives': cumulative_positives,\n",
        "                         'Cumulative Percentage': cumulative_percentage,\n",
        "                         'Lift': lift,\n",
        "                         'Gain': gain})\n",
        "\n",
        "# Compute Lift and Gain for Logistic Regression and Naive Bayes\n",
        "lift_gain_lr = compute_lift_gain(y_test, proba_lr)\n",
        "lift_gain_nb = compute_lift_gain(y_test, proba_nb)"
      ]
    },
    {
      "cell_type": "markdown",
      "source": [
        "### Lift and Gain Results for Logistic Regression\n",
        "\n",
        "- **Performance in Deciles**:\n",
        "  - The lift starts at **2.20** in the first decile, highlighting its ability to rank positives effectively.\n",
        "  - The gain metric reaches **1.0** in the final decile, showing full coverage.\n",
        "\n",
        "| Decile | Positives | Lift   | Gain   |\n",
        "|--------|-----------|--------|--------|\n",
        "| 1      | 2200      | 2.20   | 0.20   |\n",
        "| 5      | 2056      | 1.66   | 1.00   |\n",
        "\n",
        "- **Insights**:\n",
        "  - Logistic Regression concentrates true positives effectively in the top deciles.\n",
        "  - It shows strong differentiation of high-probability cases."
      ],
      "metadata": {
        "id": "0fnVupVgq0XN"
      },
      "id": "0fnVupVgq0XN"
    },
    {
      "cell_type": "code",
      "execution_count": null,
      "id": "e30008c1",
      "metadata": {
        "id": "e30008c1",
        "outputId": "6d04f3f1-722f-4010-d75f-8d2f99a4fa73"
      },
      "outputs": [
        {
          "name": "stdout",
          "output_type": "stream",
          "text": [
            "Logistic Regression: Lift and Gain Results\n",
            "   Decile  Positives  Count  Cumulative Positives  Cumulative Percentage  \\\n",
            "0       1       2200    275                  2200               0.202057   \n",
            "1       2       2192    274                  4392               0.403380   \n",
            "2       3       2200    275                  6592               0.605437   \n",
            "3       4       2192    274                  8784               0.806760   \n",
            "4       5       2056    275                 10840               0.995591   \n",
            "5       6         48    274                 10888               1.000000   \n",
            "6       7          0    275                 10888               1.000000   \n",
            "7       8          0    274                 10888               1.000000   \n",
            "8       9          0    275                 10888               1.000000   \n",
            "9      10          0    275                 10888               1.000000   \n",
            "\n",
            "       Lift      Gain  \n",
            "0  2.020573  0.202057  \n",
            "1  2.016899  0.403380  \n",
            "2  2.018124  0.605437  \n",
            "3  2.016899  0.806760  \n",
            "4  1.991183  0.995591  \n",
            "5  1.666667  1.000000  \n",
            "6  1.428571  1.000000  \n",
            "7  1.250000  1.000000  \n",
            "8  1.111111  1.000000  \n",
            "9  1.000000  1.000000  \n",
            "\n",
            "Naive Bayes: Lift and Gain Results\n",
            "   Decile  Positives  Count  Cumulative Positives  Cumulative Percentage  \\\n",
            "0       7      10728   1647                 10728               0.985305   \n",
            "1       8         64    275                 10792               0.991183   \n",
            "2       9         40    274                 10832               0.994857   \n",
            "3      10         56    550                 10888               1.000000   \n",
            "\n",
            "       Lift      Gain  \n",
            "0  1.407578  0.985305  \n",
            "1  1.238979  0.991183  \n",
            "2  1.105396  0.994857  \n",
            "3  1.000000  1.000000  \n"
          ]
        }
      ],
      "source": [
        "# Print the results\n",
        "print(\"Logistic Regression: Lift and Gain Results\")\n",
        "print(lift_gain_lr)\n",
        "\n",
        "print(\"\\nNaive Bayes: Lift and Gain Results\")\n",
        "print(lift_gain_nb)"
      ]
    },
    {
      "cell_type": "markdown",
      "source": [
        "### Plot Lift and Gain Charts for Naive Bayes and Logistic Regression\n",
        "\n",
        "#### Naive Bayes: Lift and Gain\n",
        "- **Plot Details**: The left plot represents the Lift and Gain charts for the Naive Bayes model across 10 deciles.\n",
        "  - The blue line represents the lift, which shows the model's effectiveness in identifying positive cases compared to random sampling.\n",
        "  - The green line represents the gain, which is the cumulative percentage of positive cases captured.\n",
        "- **Observations**:\n",
        "  - The lift starts high in the first decile and gradually decreases as the decile number increases.\n",
        "  - The gain line reaches 100% by the 10th decile, indicating the cumulative capture of all positive cases.\n",
        "\n",
        "#### Logistic Regression: Lift and Gain\n",
        "- **Plot Details**: The right plot represents the Lift and Gain charts for the Logistic Regression model across 10 deciles.\n",
        "  - Similar to the Naive Bayes model, the blue line represents the lift, and the green line represents the gain.\n",
        "- **Observations**:\n",
        "  - The logistic regression model shows a higher lift in the initial deciles compared to Naive Bayes, especially for the top 3 deciles.\n",
        "  - The gain curve also reaches 100% by the 10th decile, showing effective classification of positive cases.\n",
        "\n",
        "#### Comparison\n",
        "- Logistic Regression demonstrates a more consistent lift in the initial deciles compared to Naive Bayes.\n",
        "- Both models reach 100% gain by the 10th decile, ensuring all positive cases are identified cumulatively. However, Logistic Regression performs better in the earlier deciles, highlighting its stronger ability to identify positive cases in priority.\n"
      ],
      "metadata": {
        "id": "yYpQn8wPrObM"
      },
      "id": "yYpQn8wPrObM"
    },
    {
      "cell_type": "code",
      "execution_count": null,
      "id": "59dedc6e",
      "metadata": {
        "id": "59dedc6e",
        "outputId": "f83c99b0-2ec1-4cbf-ac7e-70361105d4e0"
      },
      "outputs": [
        {
          "data": {
            "image/png": "[encoded data removed]",
            "text/plain": [
              "<Figure size 1400x600 with 4 Axes>"
            ]
          },
          "metadata": {},
          "output_type": "display_data"
        }
      ],
      "source": [
        "# Plot Lift and Gain Charts for Naive Bayes\n",
        "fig, axes = plt.subplots(1, 2, figsize=(14, 6), sharex=True)\n",
        "\n",
        "axes[0].plot(lift_gain_nb['Decile'], lift_gain_nb['Lift'], label=\"Lift Plot\", marker='o', color='blue')\n",
        "axes[0].set_title(\"Naive Bayes: Lift and Gain\")\n",
        "axes[0].set_xlabel(\"Deciles\")\n",
        "axes[0].set_ylabel(\"Lift\", color='blue')\n",
        "axes[0].tick_params(axis='y', labelcolor='blue')\n",
        "ax2_0 = axes[0].twinx()\n",
        "ax2_0.plot(lift_gain_nb['Decile'], lift_gain_nb['Gain'], label=\"Gain Plot\", marker='o', color='green')\n",
        "ax2_0.set_ylabel(\"Gain\", color='green')\n",
        "ax2_0.tick_params(axis='y', labelcolor='green')\n",
        "lines_0, labels_0 = axes[0].get_legend_handles_labels()\n",
        "lines_2_0, labels_2_0 = ax2_0.get_legend_handles_labels()\n",
        "axes[0].legend(lines_0 + lines_2_0, labels_0 + labels_2_0, loc='lower center')\n",
        "axes[0].grid()\n",
        "\n",
        "# Plot Lift and Gain Charts for Logistic Regression\n",
        "axes[1].plot(lift_gain_lr['Decile'], lift_gain_lr['Lift'], label=\"Lift Plot\", marker='o', color='blue')\n",
        "axes[1].set_title(\"Logistic Regression: Lift and Gain\")\n",
        "axes[1].set_xlabel(\"Deciles\")\n",
        "axes[1].set_ylabel(\"Lift\", color='blue')\n",
        "axes[1].tick_params(axis='y', labelcolor='blue')\n",
        "ax2_1 = axes[1].twinx()\n",
        "ax2_1.plot(lift_gain_lr['Decile'], lift_gain_lr['Gain'], label=\"Gain Plot\", marker='o', color='green')\n",
        "ax2_1.set_ylabel(\"Gain\", color='green')\n",
        "ax2_1.tick_params(axis='y', labelcolor='green')\n",
        "lines_1, labels_1 = axes[1].get_legend_handles_labels()\n",
        "lines_2_1, labels_2_1 = ax2_1.get_legend_handles_labels()\n",
        "axes[1].legend(lines_1 + lines_2_1, labels_1 + labels_2_1, loc=\"lower center\")\n",
        "axes[1].grid()\n",
        "\n",
        "plt.tight_layout()\n",
        "plt.show()"
      ]
    },
    {
      "cell_type": "markdown",
      "source": [
        "### Conclusion\n",
        "\n",
        "Both Naive Bayes and Logistic Regression models effectively classify positive cases, as indicated by the Lift and Gain charts and their ability to capture 100% of the positive cases cumulatively by the 10th decile. However, Logistic Regression consistently outperforms Naive Bayes in the initial deciles, demonstrating higher lift values and stronger prioritization of positive cases early on. This highlights Logistic Regression's superior ability to identify high-probability cases more effectively in scenarios requiring early and accurate classification of positives.\n"
      ],
      "metadata": {
        "id": "HRT6lIPBrXa_"
      },
      "id": "HRT6lIPBrXa_"
    }
  ],
  "metadata": {
    "kernelspec": {
      "display_name": "Python 3 (ipykernel)",
      "language": "python",
      "name": "python3"
    },
    "language_info": {
      "codemirror_mode": {
        "name": "ipython",
        "version": 3
      },
      "file_extension": ".py",
      "mimetype": "text/x-python",
      "name": "python",
      "nbconvert_exporter": "python",
      "pygments_lexer": "ipython3",
      "version": "3.11.5"
    },
    "colab": {
      "provenance": []
    }
  },
  "nbformat": 4,
  "nbformat_minor": 5
}